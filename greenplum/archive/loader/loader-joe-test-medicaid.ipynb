{
 "cells": [
  {
   "cell_type": "code",
   "execution_count": 1,
   "metadata": {},
   "outputs": [],
   "source": [
    "import psycopg2\n",
    "import keyring\n",
    "from helpers.db_utils import get_dsn\n",
    "import pathlib\n",
    "import os\n",
    "import datetime\n",
    "import logging\n",
    "\n",
    "logging.basicConfig(filename = 'logging.txt',\n",
    "                    level = logging.INFO,\n",
    "                    format = '%(asctime)s: %(message)s',\n",
    "                    filemode='w')"
   ]
  },
  {
   "cell_type": "code",
   "execution_count": 2,
   "metadata": {},
   "outputs": [
    {
     "data": {
      "text/plain": [
       "['o:\\\\github\\\\uthealth-dw\\\\greenplum\\\\datawarehouse\\\\staging-load\\\\medicaid\\\\02-enrollment\\\\01-dw-medicaid-member_enrollment_monthly.sql']"
      ]
     },
     "execution_count": 2,
     "metadata": {},
     "output_type": "execute_result"
    }
   ],
   "source": [
    "user_path = os.path.abspath(os.getcwd())[0:2]\n",
    "loading_path = '\\\\github\\\\uthealth-dw\\\\greenplum\\\\datawarehouse\\\\staging-load'\n",
    "full_path = os.path.join(user_path + loading_path + '\\\\medicaid')\n",
    "\n",
    "sql_files = []\n",
    "\n",
    "for root, dirs, files in os.walk(full_path):\n",
    "    for name in files:\n",
    "        sql_files.append(os.path.join(root, name))\n",
    "\n",
    "files = []\n",
    "#files = sql_files[4:6]\n",
    "files.append(sql_files[4]) \n",
    "files"
   ]
  },
  {
   "cell_type": "code",
   "execution_count": 2,
   "metadata": {},
   "outputs": [
    {
     "data": {
      "text/plain": [
       "['O:\\\\github\\\\uthealth-dw\\\\greenplum\\\\datawarehouse\\\\scratch\\\\loader\\\\test-pg-loader.sql']"
      ]
     },
     "execution_count": 2,
     "metadata": {},
     "output_type": "execute_result"
    }
   ],
   "source": [
    "filepath = os.path.abspath('O:\\\\github\\\\uthealth-dw\\\\greenplum\\\\datawarehouse\\\\scratch\\loader\\\\test-pg-loader.sql')\n",
    "files = []\n",
    "files.append(filepath)\n",
    "files \n",
    "\n"
   ]
  },
  {
   "cell_type": "code",
   "execution_count": 3,
   "metadata": {},
   "outputs": [
    {
     "name": "stdout",
     "output_type": "stream",
     "text": [
      "<_io.TextIOWrapper name='o:\\\\github\\\\uthealth-dw\\\\greenplum\\\\datawarehouse\\\\staging-load\\\\medicaid\\\\02-enrollment\\\\01-dw-medicaid-member_enrollment_monthly.sql' mode='r' encoding='UTF-8'>\n"
     ]
    }
   ],
   "source": [
    "for file in files:\n",
    "    logging.info(file)\n",
    "    pg_con = psycopg2.connect(get_dsn())\n",
    "    pg_con.autocommit = True\n",
    "    logging.info(pg_con)\n",
    "    with pg_con.cursor() as cursor:\n",
    "        try:\n",
    "            sql_file = open(file, 'r')\n",
    "            print(sql_file)\n",
    "            cursor.execute(sql_file.read())\n",
    "        except Exception as ee:\n",
    "            logging.info(ee)\n",
    "            pg_con.close()\n",
    "        finally:\n",
    "            #pg_con.commit()\n",
    "            logging.info('transaction commited')\n",
    "            pg_con.close()\n",
    "            logging.info('connection closed')\n",
    "if pg_con:\n",
    "    pg_con.close()\n",
    "\n",
    "    \n"
   ]
  },
  {
   "cell_type": "code",
   "execution_count": 4,
   "metadata": {},
   "outputs": [],
   "source": [
    "for file in files:\n",
    "    logging.info(file)\n",
    "    pg_con = psycopg2.connect(get_dsn())\n",
    "    pg_con.autocommit = True\n",
    "    logging.info(pg_con)\n",
    "    with pg_con.cursor() as cursor:\n",
    "        try:\n",
    "            file_contents = open(file, 'r').read()\n",
    "            queries = file_contents.split(';')[:-1]\n",
    "            for query in queries:\n",
    "                logging.info(query[:25].strip() + \"...\")\n",
    "                try:\n",
    "                    #cursor.execute(query)\n",
    "                    logging.info(\"query complete\")\n",
    "                except Exception as ee:\n",
    "                    logging.info(ee)\n",
    "        except Exception as e:\n",
    "            logging(e)\n",
    "    pg_con.close()\n",
    "    logging.info('connection closed')\n",
    "\n",
    "    \n"
   ]
  },
  {
   "cell_type": "code",
   "execution_count": null,
   "metadata": {},
   "outputs": [],
   "source": []
  }
 ],
 "metadata": {
  "interpreter": {
   "hash": "8d1ad0c143d4ddc7a4db31d19c7aa332d793e3739995bbde3c17812b560a126b"
  },
  "kernelspec": {
   "display_name": "Python 3.10.4 ('dw_py')",
   "language": "python",
   "name": "python3"
  },
  "language_info": {
   "codemirror_mode": {
    "name": "ipython",
    "version": 3
   },
   "file_extension": ".py",
   "mimetype": "text/x-python",
   "name": "python",
   "nbconvert_exporter": "python",
   "pygments_lexer": "ipython3",
   "version": "3.10.4"
  },
  "orig_nbformat": 4
 },
 "nbformat": 4,
 "nbformat_minor": 2
}
