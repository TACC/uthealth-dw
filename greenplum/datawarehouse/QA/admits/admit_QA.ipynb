{
 "cells": [
  {
   "cell_type": "markdown",
   "metadata": {},
   "source": [
    "# Data Warehouse Admission Acute IP QA"
   ]
  },
  {
   "cell_type": "code",
   "execution_count": 1,
   "metadata": {},
   "outputs": [],
   "source": [
    "import pandas as pd\n",
    "import psycopg2\n",
    "import sys\n",
    "sys.path.append('H:/')\n",
    "from uth_helpers.db_utils import get_dsn"
   ]
  },
  {
   "cell_type": "code",
   "execution_count": 2,
   "metadata": {},
   "outputs": [],
   "source": [
    "connection = psycopg2.connect(get_dsn()+' keepalives=1 keepalives_idle=30 keepalives_interval=10')"
   ]
  },
  {
   "cell_type": "markdown",
   "metadata": {},
   "source": [
    "## Checking Counts of Admit table and Admit Claims Table"
   ]
  },
  {
   "cell_type": "code",
   "execution_count": 3,
   "metadata": {},
   "outputs": [
    {
     "name": "stderr",
     "output_type": "stream",
     "text": [
      "c:\\Users\\iperez9\\.conda\\envs\\ip_env\\lib\\site-packages\\pandas\\io\\sql.py:762: UserWarning: pandas only support SQLAlchemy connectable(engine/connection) ordatabase string URI or sqlite3 DBAPI2 connectionother DBAPI2 objects are not tested, please consider using SQLAlchemy\n",
      "  warnings.warn(\n"
     ]
    },
    {
     "data": {
      "text/html": [
       "<div>\n",
       "<style scoped>\n",
       "    .dataframe tbody tr th:only-of-type {\n",
       "        vertical-align: middle;\n",
       "    }\n",
       "\n",
       "    .dataframe tbody tr th {\n",
       "        vertical-align: top;\n",
       "    }\n",
       "\n",
       "    .dataframe thead th {\n",
       "        text-align: right;\n",
       "    }\n",
       "</style>\n",
       "<table border=\"1\" class=\"dataframe\">\n",
       "  <thead>\n",
       "    <tr style=\"text-align: right;\">\n",
       "      <th></th>\n",
       "      <th>data_source</th>\n",
       "      <th>admit_row_count</th>\n",
       "      <th>admit_count</th>\n",
       "      <th>pat_count</th>\n",
       "    </tr>\n",
       "  </thead>\n",
       "  <tbody>\n",
       "    <tr>\n",
       "      <th>0</th>\n",
       "      <td>trum</td>\n",
       "      <td>1996822</td>\n",
       "      <td>1996822</td>\n",
       "      <td>1049259</td>\n",
       "    </tr>\n",
       "    <tr>\n",
       "      <th>1</th>\n",
       "      <td>mcrn</td>\n",
       "      <td>2979300</td>\n",
       "      <td>2979300</td>\n",
       "      <td>1166207</td>\n",
       "    </tr>\n",
       "    <tr>\n",
       "      <th>2</th>\n",
       "      <td>mcrt</td>\n",
       "      <td>4237268</td>\n",
       "      <td>4237268</td>\n",
       "      <td>1636408</td>\n",
       "    </tr>\n",
       "    <tr>\n",
       "      <th>3</th>\n",
       "      <td>truc</td>\n",
       "      <td>8730913</td>\n",
       "      <td>8730913</td>\n",
       "      <td>6016963</td>\n",
       "    </tr>\n",
       "  </tbody>\n",
       "</table>\n",
       "</div>"
      ],
      "text/plain": [
       "  data_source  admit_row_count  admit_count  pat_count\n",
       "0        trum          1996822      1996822    1049259\n",
       "1        mcrn          2979300      2979300    1166207\n",
       "2        mcrt          4237268      4237268    1636408\n",
       "3        truc          8730913      8730913    6016963"
      ]
     },
     "execution_count": 3,
     "metadata": {},
     "output_type": "execute_result"
    }
   ],
   "source": [
    "query = '''\n",
    "select data_source, count(*) admit_row_count, count(distinct admit_id) admit_count, count(distinct uth_member_id) pat_count\n",
    "from dev.gm_dw_ip_admit\n",
    "group by 1;\n",
    "'''\n",
    "\n",
    "admit_df = pd.read_sql(query, con=connection)\n",
    "admit_df"
   ]
  },
  {
   "cell_type": "code",
   "execution_count": 4,
   "metadata": {},
   "outputs": [
    {
     "name": "stderr",
     "output_type": "stream",
     "text": [
      "c:\\Users\\iperez9\\.conda\\envs\\ip_env\\lib\\site-packages\\pandas\\io\\sql.py:762: UserWarning: pandas only support SQLAlchemy connectable(engine/connection) ordatabase string URI or sqlite3 DBAPI2 connectionother DBAPI2 objects are not tested, please consider using SQLAlchemy\n",
      "  warnings.warn(\n"
     ]
    },
    {
     "data": {
      "text/html": [
       "<div>\n",
       "<style scoped>\n",
       "    .dataframe tbody tr th:only-of-type {\n",
       "        vertical-align: middle;\n",
       "    }\n",
       "\n",
       "    .dataframe tbody tr th {\n",
       "        vertical-align: top;\n",
       "    }\n",
       "\n",
       "    .dataframe thead th {\n",
       "        text-align: right;\n",
       "    }\n",
       "</style>\n",
       "<table border=\"1\" class=\"dataframe\">\n",
       "  <thead>\n",
       "    <tr style=\"text-align: right;\">\n",
       "      <th></th>\n",
       "      <th>data_source</th>\n",
       "      <th>claim_row_count</th>\n",
       "      <th>admit_count</th>\n",
       "      <th>pat_count</th>\n",
       "    </tr>\n",
       "  </thead>\n",
       "  <tbody>\n",
       "    <tr>\n",
       "      <th>0</th>\n",
       "      <td>trum</td>\n",
       "      <td>30273607</td>\n",
       "      <td>1996822</td>\n",
       "      <td>1049259</td>\n",
       "    </tr>\n",
       "    <tr>\n",
       "      <th>1</th>\n",
       "      <td>mcrn</td>\n",
       "      <td>45077629</td>\n",
       "      <td>2979300</td>\n",
       "      <td>1166207</td>\n",
       "    </tr>\n",
       "    <tr>\n",
       "      <th>2</th>\n",
       "      <td>mcrt</td>\n",
       "      <td>67859737</td>\n",
       "      <td>4237268</td>\n",
       "      <td>1636408</td>\n",
       "    </tr>\n",
       "    <tr>\n",
       "      <th>3</th>\n",
       "      <td>truc</td>\n",
       "      <td>85179641</td>\n",
       "      <td>8730913</td>\n",
       "      <td>6016963</td>\n",
       "    </tr>\n",
       "  </tbody>\n",
       "</table>\n",
       "</div>"
      ],
      "text/plain": [
       "  data_source  claim_row_count  admit_count  pat_count\n",
       "0        trum         30273607      1996822    1049259\n",
       "1        mcrn         45077629      2979300    1166207\n",
       "2        mcrt         67859737      4237268    1636408\n",
       "3        truc         85179641      8730913    6016963"
      ]
     },
     "execution_count": 4,
     "metadata": {},
     "output_type": "execute_result"
    }
   ],
   "source": [
    "query = '''\n",
    "select data_source, count(*) claim_row_count, count(distinct admit_id) admit_count, count(distinct uth_member_id) pat_count\n",
    "from dev.gm_dw_ip_admit_claim\n",
    "group by 1;\n",
    "'''\n",
    "\n",
    "admit_claim_df = pd.read_sql(query, con=connection)\n",
    "admit_claim_df"
   ]
  },
  {
   "cell_type": "code",
   "execution_count": 5,
   "metadata": {},
   "outputs": [
    {
     "data": {
      "text/html": [
       "<div>\n",
       "<style scoped>\n",
       "    .dataframe tbody tr th:only-of-type {\n",
       "        vertical-align: middle;\n",
       "    }\n",
       "\n",
       "    .dataframe tbody tr th {\n",
       "        vertical-align: top;\n",
       "    }\n",
       "\n",
       "    .dataframe thead th {\n",
       "        text-align: right;\n",
       "    }\n",
       "</style>\n",
       "<table border=\"1\" class=\"dataframe\">\n",
       "  <thead>\n",
       "    <tr style=\"text-align: right;\">\n",
       "      <th></th>\n",
       "      <th>data_source</th>\n",
       "      <th>admit_row_count</th>\n",
       "      <th>admit_count_x</th>\n",
       "      <th>pat_count_x</th>\n",
       "      <th>claim_row_count</th>\n",
       "      <th>admit_count_y</th>\n",
       "      <th>pat_count_y</th>\n",
       "    </tr>\n",
       "  </thead>\n",
       "  <tbody>\n",
       "    <tr>\n",
       "      <th>0</th>\n",
       "      <td>trum</td>\n",
       "      <td>1996822</td>\n",
       "      <td>1996822</td>\n",
       "      <td>1049259</td>\n",
       "      <td>30273607</td>\n",
       "      <td>1996822</td>\n",
       "      <td>1049259</td>\n",
       "    </tr>\n",
       "    <tr>\n",
       "      <th>1</th>\n",
       "      <td>mcrn</td>\n",
       "      <td>2979300</td>\n",
       "      <td>2979300</td>\n",
       "      <td>1166207</td>\n",
       "      <td>45077629</td>\n",
       "      <td>2979300</td>\n",
       "      <td>1166207</td>\n",
       "    </tr>\n",
       "    <tr>\n",
       "      <th>2</th>\n",
       "      <td>mcrt</td>\n",
       "      <td>4237268</td>\n",
       "      <td>4237268</td>\n",
       "      <td>1636408</td>\n",
       "      <td>67859737</td>\n",
       "      <td>4237268</td>\n",
       "      <td>1636408</td>\n",
       "    </tr>\n",
       "    <tr>\n",
       "      <th>3</th>\n",
       "      <td>truc</td>\n",
       "      <td>8730913</td>\n",
       "      <td>8730913</td>\n",
       "      <td>6016963</td>\n",
       "      <td>85179641</td>\n",
       "      <td>8730913</td>\n",
       "      <td>6016963</td>\n",
       "    </tr>\n",
       "  </tbody>\n",
       "</table>\n",
       "</div>"
      ],
      "text/plain": [
       "  data_source  admit_row_count  admit_count_x  pat_count_x  claim_row_count  \\\n",
       "0        trum          1996822        1996822      1049259         30273607   \n",
       "1        mcrn          2979300        2979300      1166207         45077629   \n",
       "2        mcrt          4237268        4237268      1636408         67859737   \n",
       "3        truc          8730913        8730913      6016963         85179641   \n",
       "\n",
       "   admit_count_y  pat_count_y  \n",
       "0        1996822      1049259  \n",
       "1        2979300      1166207  \n",
       "2        4237268      1636408  \n",
       "3        8730913      6016963  "
      ]
     },
     "execution_count": 5,
     "metadata": {},
     "output_type": "execute_result"
    }
   ],
   "source": [
    "comp_df = pd.merge(left=admit_df, right=admit_claim_df, on='data_source')\n",
    "comp_df"
   ]
  },
  {
   "cell_type": "markdown",
   "metadata": {},
   "source": [
    "Ideally, the number of unique admits should be the same in both tables. If it doesn't then we need to figure out if there is a significant difference between the two tables. This difference can happen due to the dates that are on the claims in both the detail and header levels."
   ]
  },
  {
   "cell_type": "code",
   "execution_count": 6,
   "metadata": {},
   "outputs": [
    {
     "data": {
      "text/html": [
       "<div>\n",
       "<style scoped>\n",
       "    .dataframe tbody tr th:only-of-type {\n",
       "        vertical-align: middle;\n",
       "    }\n",
       "\n",
       "    .dataframe tbody tr th {\n",
       "        vertical-align: top;\n",
       "    }\n",
       "\n",
       "    .dataframe thead th {\n",
       "        text-align: right;\n",
       "    }\n",
       "</style>\n",
       "<table border=\"1\" class=\"dataframe\">\n",
       "  <thead>\n",
       "    <tr style=\"text-align: right;\">\n",
       "      <th></th>\n",
       "      <th>data_source</th>\n",
       "      <th>admit_row_count</th>\n",
       "      <th>admit_count_x</th>\n",
       "      <th>pat_count_x</th>\n",
       "      <th>claim_row_count</th>\n",
       "      <th>admit_count_y</th>\n",
       "      <th>pat_count_y</th>\n",
       "      <th>admit_count_same</th>\n",
       "      <th>pat_count_same</th>\n",
       "    </tr>\n",
       "  </thead>\n",
       "  <tbody>\n",
       "    <tr>\n",
       "      <th>0</th>\n",
       "      <td>trum</td>\n",
       "      <td>1996822</td>\n",
       "      <td>1996822</td>\n",
       "      <td>1049259</td>\n",
       "      <td>30273607</td>\n",
       "      <td>1996822</td>\n",
       "      <td>1049259</td>\n",
       "      <td>True</td>\n",
       "      <td>True</td>\n",
       "    </tr>\n",
       "    <tr>\n",
       "      <th>1</th>\n",
       "      <td>mcrn</td>\n",
       "      <td>2979300</td>\n",
       "      <td>2979300</td>\n",
       "      <td>1166207</td>\n",
       "      <td>45077629</td>\n",
       "      <td>2979300</td>\n",
       "      <td>1166207</td>\n",
       "      <td>True</td>\n",
       "      <td>True</td>\n",
       "    </tr>\n",
       "    <tr>\n",
       "      <th>2</th>\n",
       "      <td>mcrt</td>\n",
       "      <td>4237268</td>\n",
       "      <td>4237268</td>\n",
       "      <td>1636408</td>\n",
       "      <td>67859737</td>\n",
       "      <td>4237268</td>\n",
       "      <td>1636408</td>\n",
       "      <td>True</td>\n",
       "      <td>True</td>\n",
       "    </tr>\n",
       "    <tr>\n",
       "      <th>3</th>\n",
       "      <td>truc</td>\n",
       "      <td>8730913</td>\n",
       "      <td>8730913</td>\n",
       "      <td>6016963</td>\n",
       "      <td>85179641</td>\n",
       "      <td>8730913</td>\n",
       "      <td>6016963</td>\n",
       "      <td>True</td>\n",
       "      <td>True</td>\n",
       "    </tr>\n",
       "  </tbody>\n",
       "</table>\n",
       "</div>"
      ],
      "text/plain": [
       "  data_source  admit_row_count  admit_count_x  pat_count_x  claim_row_count  \\\n",
       "0        trum          1996822        1996822      1049259         30273607   \n",
       "1        mcrn          2979300        2979300      1166207         45077629   \n",
       "2        mcrt          4237268        4237268      1636408         67859737   \n",
       "3        truc          8730913        8730913      6016963         85179641   \n",
       "\n",
       "   admit_count_y  pat_count_y  admit_count_same  pat_count_same  \n",
       "0        1996822      1049259              True            True  \n",
       "1        2979300      1166207              True            True  \n",
       "2        4237268      1636408              True            True  \n",
       "3        8730913      6016963              True            True  "
      ]
     },
     "execution_count": 6,
     "metadata": {},
     "output_type": "execute_result"
    }
   ],
   "source": [
    "comp_df['admit_count_same'] = comp_df['admit_count_x'] == comp_df['admit_count_y']\n",
    "comp_df['pat_count_same'] = comp_df['pat_count_x'] == comp_df['pat_count_y']\n",
    "comp_df"
   ]
  },
  {
   "cell_type": "markdown",
   "metadata": {},
   "source": [
    "## Checking if there are any admissions episodes that overlap"
   ]
  },
  {
   "cell_type": "markdown",
   "metadata": {},
   "source": [
    "Again, there shouldn't be any admissions that overlap with each other, but if there is, we need to investigate."
   ]
  },
  {
   "cell_type": "code",
   "execution_count": 7,
   "metadata": {},
   "outputs": [
    {
     "name": "stderr",
     "output_type": "stream",
     "text": [
      "c:\\Users\\iperez9\\.conda\\envs\\ip_env\\lib\\site-packages\\pandas\\io\\sql.py:762: UserWarning: pandas only support SQLAlchemy connectable(engine/connection) ordatabase string URI or sqlite3 DBAPI2 connectionother DBAPI2 objects are not tested, please consider using SQLAlchemy\n",
      "  warnings.warn(\n"
     ]
    },
    {
     "data": {
      "text/html": [
       "<div>\n",
       "<style scoped>\n",
       "    .dataframe tbody tr th:only-of-type {\n",
       "        vertical-align: middle;\n",
       "    }\n",
       "\n",
       "    .dataframe tbody tr th {\n",
       "        vertical-align: top;\n",
       "    }\n",
       "\n",
       "    .dataframe thead th {\n",
       "        text-align: right;\n",
       "    }\n",
       "</style>\n",
       "<table border=\"1\" class=\"dataframe\">\n",
       "  <thead>\n",
       "    <tr style=\"text-align: right;\">\n",
       "      <th></th>\n",
       "      <th>data_source</th>\n",
       "      <th>count</th>\n",
       "    </tr>\n",
       "  </thead>\n",
       "  <tbody>\n",
       "  </tbody>\n",
       "</table>\n",
       "</div>"
      ],
      "text/plain": [
       "Empty DataFrame\n",
       "Columns: [data_source, count]\n",
       "Index: []"
      ]
     },
     "execution_count": 7,
     "metadata": {},
     "output_type": "execute_result"
    }
   ],
   "source": [
    "query ='''\n",
    "select a.data_source, count(*) --a.admit_date as a_admit_dt, b.admit_date as b_admit_dt, b.discharge_date as b_discharge_date\n",
    "from dev.gm_dw_ip_admit a \n",
    "inner join dev.gm_dw_ip_admit b\n",
    "on a.data_source = b.data_source\n",
    "and a.uth_member_id = b.uth_member_id\n",
    "and a.admit_date between b.admit_date+1 and b.discharge_date\n",
    "group by 1;\n",
    "'''\n",
    "\n",
    "pd.read_sql(query, con=connection)"
   ]
  },
  {
   "cell_type": "code",
   "execution_count": 8,
   "metadata": {},
   "outputs": [
    {
     "name": "stderr",
     "output_type": "stream",
     "text": [
      "c:\\Users\\iperez9\\.conda\\envs\\ip_env\\lib\\site-packages\\pandas\\io\\sql.py:762: UserWarning: pandas only support SQLAlchemy connectable(engine/connection) ordatabase string URI or sqlite3 DBAPI2 connectionother DBAPI2 objects are not tested, please consider using SQLAlchemy\n",
      "  warnings.warn(\n"
     ]
    },
    {
     "data": {
      "text/html": [
       "<div>\n",
       "<style scoped>\n",
       "    .dataframe tbody tr th:only-of-type {\n",
       "        vertical-align: middle;\n",
       "    }\n",
       "\n",
       "    .dataframe tbody tr th {\n",
       "        vertical-align: top;\n",
       "    }\n",
       "\n",
       "    .dataframe thead th {\n",
       "        text-align: right;\n",
       "    }\n",
       "</style>\n",
       "<table border=\"1\" class=\"dataframe\">\n",
       "  <thead>\n",
       "    <tr style=\"text-align: right;\">\n",
       "      <th></th>\n",
       "      <th>data_source</th>\n",
       "      <th>a_admit_dt</th>\n",
       "      <th>a_discharge_date</th>\n",
       "      <th>b_admit_dt</th>\n",
       "      <th>b_discharge_date</th>\n",
       "      <th>admit_id</th>\n",
       "      <th>admit_id</th>\n",
       "    </tr>\n",
       "  </thead>\n",
       "  <tbody>\n",
       "  </tbody>\n",
       "</table>\n",
       "</div>"
      ],
      "text/plain": [
       "Empty DataFrame\n",
       "Columns: [data_source, a_admit_dt, a_discharge_date, b_admit_dt, b_discharge_date, admit_id, admit_id]\n",
       "Index: []"
      ]
     },
     "execution_count": 8,
     "metadata": {},
     "output_type": "execute_result"
    }
   ],
   "source": [
    "query ='''\n",
    "select a.data_source, a.admit_date as a_admit_dt, a.discharge_date as a_discharge_date, \n",
    "        b.admit_date as b_admit_dt, b.discharge_date as b_discharge_date,\n",
    "        a.admit_id, b.admit_id\n",
    "from dev.gm_dw_ip_admit a \n",
    "inner join dev.gm_dw_ip_admit b\n",
    "on a.data_source = b.data_source\n",
    "and a.uth_member_id = b.uth_member_id\n",
    "and a.admit_date between b.admit_date+1 and b.discharge_date;\n",
    "'''\n",
    "\n",
    "pd.read_sql(query, con=connection)"
   ]
  },
  {
   "cell_type": "markdown",
   "metadata": {},
   "source": [
    "## Checking Admission and Discharge Dates"
   ]
  },
  {
   "cell_type": "markdown",
   "metadata": {},
   "source": [
    "Here we check the dates for admission and discharge to see if the dates are outside the initial range of years we generated the admit tables for."
   ]
  },
  {
   "cell_type": "code",
   "execution_count": 9,
   "metadata": {},
   "outputs": [
    {
     "name": "stderr",
     "output_type": "stream",
     "text": [
      "c:\\Users\\iperez9\\.conda\\envs\\ip_env\\lib\\site-packages\\pandas\\io\\sql.py:762: UserWarning: pandas only support SQLAlchemy connectable(engine/connection) ordatabase string URI or sqlite3 DBAPI2 connectionother DBAPI2 objects are not tested, please consider using SQLAlchemy\n",
      "  warnings.warn(\n"
     ]
    },
    {
     "data": {
      "text/html": [
       "<div>\n",
       "<style scoped>\n",
       "    .dataframe tbody tr th:only-of-type {\n",
       "        vertical-align: middle;\n",
       "    }\n",
       "\n",
       "    .dataframe tbody tr th {\n",
       "        vertical-align: top;\n",
       "    }\n",
       "\n",
       "    .dataframe thead th {\n",
       "        text-align: right;\n",
       "    }\n",
       "</style>\n",
       "<table border=\"1\" class=\"dataframe\">\n",
       "  <thead>\n",
       "    <tr style=\"text-align: right;\">\n",
       "      <th></th>\n",
       "      <th>data_source</th>\n",
       "      <th>admit_oor</th>\n",
       "      <th>discharge_oor</th>\n",
       "      <th>discharge_before_admit</th>\n",
       "      <th>count</th>\n",
       "      <th>admit_oor_pct</th>\n",
       "      <th>discharge_oor_pct</th>\n",
       "      <th>discharge_before_admit_pct</th>\n",
       "    </tr>\n",
       "  </thead>\n",
       "  <tbody>\n",
       "    <tr>\n",
       "      <th>0</th>\n",
       "      <td>truc</td>\n",
       "      <td>0</td>\n",
       "      <td>0</td>\n",
       "      <td>0</td>\n",
       "      <td>8730913</td>\n",
       "      <td>0.0</td>\n",
       "      <td>0.0</td>\n",
       "      <td>0.0</td>\n",
       "    </tr>\n",
       "    <tr>\n",
       "      <th>1</th>\n",
       "      <td>mcrn</td>\n",
       "      <td>0</td>\n",
       "      <td>0</td>\n",
       "      <td>0</td>\n",
       "      <td>2979300</td>\n",
       "      <td>0.0</td>\n",
       "      <td>0.0</td>\n",
       "      <td>0.0</td>\n",
       "    </tr>\n",
       "    <tr>\n",
       "      <th>2</th>\n",
       "      <td>trum</td>\n",
       "      <td>0</td>\n",
       "      <td>0</td>\n",
       "      <td>0</td>\n",
       "      <td>1996822</td>\n",
       "      <td>0.0</td>\n",
       "      <td>0.0</td>\n",
       "      <td>0.0</td>\n",
       "    </tr>\n",
       "    <tr>\n",
       "      <th>3</th>\n",
       "      <td>mcrt</td>\n",
       "      <td>0</td>\n",
       "      <td>0</td>\n",
       "      <td>0</td>\n",
       "      <td>4237268</td>\n",
       "      <td>0.0</td>\n",
       "      <td>0.0</td>\n",
       "      <td>0.0</td>\n",
       "    </tr>\n",
       "  </tbody>\n",
       "</table>\n",
       "</div>"
      ],
      "text/plain": [
       "  data_source  admit_oor  discharge_oor  discharge_before_admit    count  \\\n",
       "0        truc          0              0                       0  8730913   \n",
       "1        mcrn          0              0                       0  2979300   \n",
       "2        trum          0              0                       0  1996822   \n",
       "3        mcrt          0              0                       0  4237268   \n",
       "\n",
       "   admit_oor_pct  discharge_oor_pct  discharge_before_admit_pct  \n",
       "0            0.0                0.0                         0.0  \n",
       "1            0.0                0.0                         0.0  \n",
       "2            0.0                0.0                         0.0  \n",
       "3            0.0                0.0                         0.0  "
      ]
     },
     "execution_count": 9,
     "metadata": {},
     "output_type": "execute_result"
    }
   ],
   "source": [
    "query = '''\n",
    "select data_source,\n",
    "\tsum(case when extract(year from admit_date) not between 2011 and 2023 then 1 else 0 end) as admit_oor,\n",
    "\tsum(case when extract(year from discharge_date) not between 2011 and 2023 then 1 else 0 end) as discharge_oor,\n",
    "\tsum(case when (discharge_date - admit_date) < 0 then 1 else 0 end ) as discharge_before_admit,\n",
    "\tcount(*),\n",
    "\tsum(case when extract(year from admit_date) not between 2011 and 2023 then 1 else 0 end) * 1.0 / count(*) as admit_oor_pct,\n",
    "\tsum(case when extract(year from discharge_date) not between 2011 and 2023 then 1 else 0 end) * 1.0 / count(*) as discharge_oor_pct,\n",
    "\tsum(case when (discharge_date - admit_date) < 0 then 1 else 0 end ) * 1.0 / count(*) as discharge_before_admit_pct\n",
    "from dev.gm_dw_ip_admit\n",
    "group by data_source;\n",
    "'''\n",
    "\n",
    "pd.read_sql(query, con=connection)"
   ]
  },
  {
   "cell_type": "code",
   "execution_count": 10,
   "metadata": {},
   "outputs": [
    {
     "name": "stderr",
     "output_type": "stream",
     "text": [
      "c:\\Users\\iperez9\\.conda\\envs\\ip_env\\lib\\site-packages\\pandas\\io\\sql.py:762: UserWarning: pandas only support SQLAlchemy connectable(engine/connection) ordatabase string URI or sqlite3 DBAPI2 connectionother DBAPI2 objects are not tested, please consider using SQLAlchemy\n",
      "  warnings.warn(\n"
     ]
    },
    {
     "data": {
      "text/html": [
       "<div>\n",
       "<style scoped>\n",
       "    .dataframe tbody tr th:only-of-type {\n",
       "        vertical-align: middle;\n",
       "    }\n",
       "\n",
       "    .dataframe tbody tr th {\n",
       "        vertical-align: top;\n",
       "    }\n",
       "\n",
       "    .dataframe thead th {\n",
       "        text-align: right;\n",
       "    }\n",
       "</style>\n",
       "<table border=\"1\" class=\"dataframe\">\n",
       "  <thead>\n",
       "    <tr style=\"text-align: right;\">\n",
       "      <th></th>\n",
       "      <th>data_source</th>\n",
       "      <th>uth_member_id</th>\n",
       "      <th>enc_id</th>\n",
       "      <th>admit_date</th>\n",
       "      <th>discharge_date</th>\n",
       "      <th>enc_discharge_status</th>\n",
       "      <th>admit_id</th>\n",
       "      <th>total_charge_amount</th>\n",
       "      <th>total_allowed_amount</th>\n",
       "      <th>total_paid_amount</th>\n",
       "      <th>missing_terminal_status</th>\n",
       "      <th>missing_terminal_status_117</th>\n",
       "      <th>paid_status</th>\n",
       "      <th>member_id_src</th>\n",
       "      <th>insert_ts</th>\n",
       "    </tr>\n",
       "  </thead>\n",
       "  <tbody>\n",
       "  </tbody>\n",
       "</table>\n",
       "</div>"
      ],
      "text/plain": [
       "Empty DataFrame\n",
       "Columns: [data_source, uth_member_id, enc_id, admit_date, discharge_date, enc_discharge_status, admit_id, total_charge_amount, total_allowed_amount, total_paid_amount, missing_terminal_status, missing_terminal_status_117, paid_status, member_id_src, insert_ts]\n",
       "Index: []"
      ]
     },
     "execution_count": 10,
     "metadata": {},
     "output_type": "execute_result"
    }
   ],
   "source": [
    "query = '''\n",
    "select *\n",
    "from dev.gm_dw_ip_admit\n",
    "where extract(year from admit_date) not between 2011 and 2023;'''\n",
    "\n",
    "pd.read_sql(query, con=connection)"
   ]
  },
  {
   "cell_type": "code",
   "execution_count": 11,
   "metadata": {},
   "outputs": [
    {
     "name": "stderr",
     "output_type": "stream",
     "text": [
      "c:\\Users\\iperez9\\.conda\\envs\\ip_env\\lib\\site-packages\\pandas\\io\\sql.py:762: UserWarning: pandas only support SQLAlchemy connectable(engine/connection) ordatabase string URI or sqlite3 DBAPI2 connectionother DBAPI2 objects are not tested, please consider using SQLAlchemy\n",
      "  warnings.warn(\n"
     ]
    },
    {
     "data": {
      "text/html": [
       "<div>\n",
       "<style scoped>\n",
       "    .dataframe tbody tr th:only-of-type {\n",
       "        vertical-align: middle;\n",
       "    }\n",
       "\n",
       "    .dataframe tbody tr th {\n",
       "        vertical-align: top;\n",
       "    }\n",
       "\n",
       "    .dataframe thead th {\n",
       "        text-align: right;\n",
       "    }\n",
       "</style>\n",
       "<table border=\"1\" class=\"dataframe\">\n",
       "  <thead>\n",
       "    <tr style=\"text-align: right;\">\n",
       "      <th></th>\n",
       "      <th>data_source</th>\n",
       "      <th>uth_member_id</th>\n",
       "      <th>enc_id</th>\n",
       "      <th>admit_date</th>\n",
       "      <th>discharge_date</th>\n",
       "      <th>enc_discharge_status</th>\n",
       "      <th>admit_id</th>\n",
       "      <th>total_charge_amount</th>\n",
       "      <th>total_allowed_amount</th>\n",
       "      <th>total_paid_amount</th>\n",
       "      <th>missing_terminal_status</th>\n",
       "      <th>missing_terminal_status_117</th>\n",
       "      <th>paid_status</th>\n",
       "      <th>member_id_src</th>\n",
       "      <th>insert_ts</th>\n",
       "    </tr>\n",
       "  </thead>\n",
       "  <tbody>\n",
       "  </tbody>\n",
       "</table>\n",
       "</div>"
      ],
      "text/plain": [
       "Empty DataFrame\n",
       "Columns: [data_source, uth_member_id, enc_id, admit_date, discharge_date, enc_discharge_status, admit_id, total_charge_amount, total_allowed_amount, total_paid_amount, missing_terminal_status, missing_terminal_status_117, paid_status, member_id_src, insert_ts]\n",
       "Index: []"
      ]
     },
     "execution_count": 11,
     "metadata": {},
     "output_type": "execute_result"
    }
   ],
   "source": [
    "query = '''\n",
    "select *\n",
    "from dev.gm_dw_ip_admit\n",
    "where extract(year from discharge_date) not between 2011 and 2023;'''\n",
    "\n",
    "pd.read_sql(query, con=connection)"
   ]
  },
  {
   "cell_type": "markdown",
   "metadata": {},
   "source": [
    "## Checking Bill Types at the beginning and end of an admit episode"
   ]
  },
  {
   "cell_type": "markdown",
   "metadata": {},
   "source": [
    "In step 2, we added a column to determine whether during an admission episode had terminal bill codes (111, 114, 117) which indicate the start/end of an inpatient stay."
   ]
  },
  {
   "cell_type": "code",
   "execution_count": 12,
   "metadata": {},
   "outputs": [
    {
     "name": "stderr",
     "output_type": "stream",
     "text": [
      "c:\\Users\\iperez9\\.conda\\envs\\ip_env\\lib\\site-packages\\pandas\\io\\sql.py:762: UserWarning: pandas only support SQLAlchemy connectable(engine/connection) ordatabase string URI or sqlite3 DBAPI2 connectionother DBAPI2 objects are not tested, please consider using SQLAlchemy\n",
      "  warnings.warn(\n"
     ]
    },
    {
     "data": {
      "text/html": [
       "<div>\n",
       "<style scoped>\n",
       "    .dataframe tbody tr th:only-of-type {\n",
       "        vertical-align: middle;\n",
       "    }\n",
       "\n",
       "    .dataframe tbody tr th {\n",
       "        vertical-align: top;\n",
       "    }\n",
       "\n",
       "    .dataframe thead th {\n",
       "        text-align: right;\n",
       "    }\n",
       "</style>\n",
       "<table border=\"1\" class=\"dataframe\">\n",
       "  <thead>\n",
       "    <tr style=\"text-align: right;\">\n",
       "      <th></th>\n",
       "      <th>data_source</th>\n",
       "      <th>missing_terminal_status</th>\n",
       "      <th>count</th>\n",
       "      <th>?column?</th>\n",
       "    </tr>\n",
       "  </thead>\n",
       "  <tbody>\n",
       "    <tr>\n",
       "      <th>0</th>\n",
       "      <td>mcrn</td>\n",
       "      <td>False</td>\n",
       "      <td>2976196</td>\n",
       "      <td>99.895814</td>\n",
       "    </tr>\n",
       "    <tr>\n",
       "      <th>1</th>\n",
       "      <td>mcrn</td>\n",
       "      <td>True</td>\n",
       "      <td>3104</td>\n",
       "      <td>0.104186</td>\n",
       "    </tr>\n",
       "    <tr>\n",
       "      <th>2</th>\n",
       "      <td>mcrt</td>\n",
       "      <td>False</td>\n",
       "      <td>4234326</td>\n",
       "      <td>99.930568</td>\n",
       "    </tr>\n",
       "    <tr>\n",
       "      <th>3</th>\n",
       "      <td>mcrt</td>\n",
       "      <td>True</td>\n",
       "      <td>2942</td>\n",
       "      <td>0.069432</td>\n",
       "    </tr>\n",
       "    <tr>\n",
       "      <th>4</th>\n",
       "      <td>truc</td>\n",
       "      <td>False</td>\n",
       "      <td>8428279</td>\n",
       "      <td>96.533765</td>\n",
       "    </tr>\n",
       "    <tr>\n",
       "      <th>5</th>\n",
       "      <td>truc</td>\n",
       "      <td>True</td>\n",
       "      <td>302634</td>\n",
       "      <td>3.466235</td>\n",
       "    </tr>\n",
       "    <tr>\n",
       "      <th>6</th>\n",
       "      <td>trum</td>\n",
       "      <td>False</td>\n",
       "      <td>1993863</td>\n",
       "      <td>99.851815</td>\n",
       "    </tr>\n",
       "    <tr>\n",
       "      <th>7</th>\n",
       "      <td>trum</td>\n",
       "      <td>True</td>\n",
       "      <td>2959</td>\n",
       "      <td>0.148185</td>\n",
       "    </tr>\n",
       "  </tbody>\n",
       "</table>\n",
       "</div>"
      ],
      "text/plain": [
       "  data_source  missing_terminal_status    count   ?column?\n",
       "0        mcrn                    False  2976196  99.895814\n",
       "1        mcrn                     True     3104   0.104186\n",
       "2        mcrt                    False  4234326  99.930568\n",
       "3        mcrt                     True     2942   0.069432\n",
       "4        truc                    False  8428279  96.533765\n",
       "5        truc                     True   302634   3.466235\n",
       "6        trum                    False  1993863  99.851815\n",
       "7        trum                     True     2959   0.148185"
      ]
     },
     "execution_count": 12,
     "metadata": {},
     "output_type": "execute_result"
    }
   ],
   "source": [
    "query = '''\n",
    "select data_source, missing_terminal_status, count(*), 100.* count(*) / sum(count(*)) over (partition by data_source)\n",
    "from dev.gm_dw_ip_admit\n",
    "group by 1,2\n",
    "order by 1,2;\n",
    "'''\n",
    "\n",
    "pd.read_sql(query, con=connection)"
   ]
  },
  {
   "cell_type": "code",
   "execution_count": 13,
   "metadata": {},
   "outputs": [
    {
     "name": "stderr",
     "output_type": "stream",
     "text": [
      "c:\\Users\\iperez9\\.conda\\envs\\ip_env\\lib\\site-packages\\pandas\\io\\sql.py:762: UserWarning: pandas only support SQLAlchemy connectable(engine/connection) ordatabase string URI or sqlite3 DBAPI2 connectionother DBAPI2 objects are not tested, please consider using SQLAlchemy\n",
      "  warnings.warn(\n"
     ]
    },
    {
     "data": {
      "text/html": [
       "<div>\n",
       "<style scoped>\n",
       "    .dataframe tbody tr th:only-of-type {\n",
       "        vertical-align: middle;\n",
       "    }\n",
       "\n",
       "    .dataframe tbody tr th {\n",
       "        vertical-align: top;\n",
       "    }\n",
       "\n",
       "    .dataframe thead th {\n",
       "        text-align: right;\n",
       "    }\n",
       "</style>\n",
       "<table border=\"1\" class=\"dataframe\">\n",
       "  <thead>\n",
       "    <tr style=\"text-align: right;\">\n",
       "      <th></th>\n",
       "      <th>data_source</th>\n",
       "      <th>missing_terminal_status_117</th>\n",
       "      <th>count</th>\n",
       "      <th>?column?</th>\n",
       "    </tr>\n",
       "  </thead>\n",
       "  <tbody>\n",
       "    <tr>\n",
       "      <th>0</th>\n",
       "      <td>mcrn</td>\n",
       "      <td>False</td>\n",
       "      <td>2946574</td>\n",
       "      <td>98.901554</td>\n",
       "    </tr>\n",
       "    <tr>\n",
       "      <th>1</th>\n",
       "      <td>mcrn</td>\n",
       "      <td>True</td>\n",
       "      <td>32726</td>\n",
       "      <td>1.098446</td>\n",
       "    </tr>\n",
       "    <tr>\n",
       "      <th>2</th>\n",
       "      <td>mcrt</td>\n",
       "      <td>False</td>\n",
       "      <td>4164120</td>\n",
       "      <td>98.273699</td>\n",
       "    </tr>\n",
       "    <tr>\n",
       "      <th>3</th>\n",
       "      <td>mcrt</td>\n",
       "      <td>True</td>\n",
       "      <td>73148</td>\n",
       "      <td>1.726301</td>\n",
       "    </tr>\n",
       "    <tr>\n",
       "      <th>4</th>\n",
       "      <td>truc</td>\n",
       "      <td>False</td>\n",
       "      <td>8477605</td>\n",
       "      <td>97.098723</td>\n",
       "    </tr>\n",
       "    <tr>\n",
       "      <th>5</th>\n",
       "      <td>truc</td>\n",
       "      <td>True</td>\n",
       "      <td>253308</td>\n",
       "      <td>2.901277</td>\n",
       "    </tr>\n",
       "    <tr>\n",
       "      <th>6</th>\n",
       "      <td>trum</td>\n",
       "      <td>False</td>\n",
       "      <td>1895310</td>\n",
       "      <td>94.916322</td>\n",
       "    </tr>\n",
       "    <tr>\n",
       "      <th>7</th>\n",
       "      <td>trum</td>\n",
       "      <td>True</td>\n",
       "      <td>101512</td>\n",
       "      <td>5.083678</td>\n",
       "    </tr>\n",
       "  </tbody>\n",
       "</table>\n",
       "</div>"
      ],
      "text/plain": [
       "  data_source  missing_terminal_status_117    count   ?column?\n",
       "0        mcrn                        False  2946574  98.901554\n",
       "1        mcrn                         True    32726   1.098446\n",
       "2        mcrt                        False  4164120  98.273699\n",
       "3        mcrt                         True    73148   1.726301\n",
       "4        truc                        False  8477605  97.098723\n",
       "5        truc                         True   253308   2.901277\n",
       "6        trum                        False  1895310  94.916322\n",
       "7        trum                         True   101512   5.083678"
      ]
     },
     "execution_count": 13,
     "metadata": {},
     "output_type": "execute_result"
    }
   ],
   "source": [
    "query = '''\n",
    "select data_source, missing_terminal_status_117, count(*), 100.* count(*) / sum(count(*)) over (partition by data_source)\n",
    "from dev.gm_dw_ip_admit\n",
    "group by 1,2\n",
    "order by 1,2;\n",
    "'''\n",
    "\n",
    "pd.read_sql(query, con=connection)"
   ]
  },
  {
   "cell_type": "markdown",
   "metadata": {},
   "source": [
    "## Checking that total costs in admit table matches total cost in admit claims table"
   ]
  },
  {
   "cell_type": "code",
   "execution_count": 4,
   "metadata": {},
   "outputs": [
    {
     "name": "stderr",
     "output_type": "stream",
     "text": [
      "C:\\Users\\iperez9\\AppData\\Local\\Temp\\30\\ipykernel_14660\\2636698808.py:25: UserWarning: pandas only supports SQLAlchemy connectable (engine/connection) or database string URI or sqlite3 DBAPI2 connection. Other DBAPI2 objects are not tested. Please consider using SQLAlchemy.\n",
      "  pd.read_sql(query, con=connection)\n"
     ]
    },
    {
     "data": {
      "text/html": [
       "<div>\n",
       "<style scoped>\n",
       "    .dataframe tbody tr th:only-of-type {\n",
       "        vertical-align: middle;\n",
       "    }\n",
       "\n",
       "    .dataframe tbody tr th {\n",
       "        vertical-align: top;\n",
       "    }\n",
       "\n",
       "    .dataframe thead th {\n",
       "        text-align: right;\n",
       "    }\n",
       "</style>\n",
       "<table border=\"1\" class=\"dataframe\">\n",
       "  <thead>\n",
       "    <tr style=\"text-align: right;\">\n",
       "      <th></th>\n",
       "      <th>data_source</th>\n",
       "      <th>count</th>\n",
       "    </tr>\n",
       "  </thead>\n",
       "  <tbody>\n",
       "  </tbody>\n",
       "</table>\n",
       "</div>"
      ],
      "text/plain": [
       "Empty DataFrame\n",
       "Columns: [data_source, count]\n",
       "Index: []"
      ]
     },
     "execution_count": 4,
     "metadata": {},
     "output_type": "execute_result"
    }
   ],
   "source": [
    "query = '''\n",
    "with a as (\n",
    "select a.*, total_allowed_amount, case when clm_total_allowed_amount != total_allowed_amount then 1 end as diff_allowed_flag\n",
    "\t, total_charge_amount, case when clm_total_charge_amount != total_charge_amount then 1 end as diff_charge_flag\n",
    "\t, total_paid_amount, case when clm_total_paid_amount != total_paid_amount then 1 end as diff_paid_flag\n",
    "from \n",
    "\t(select data_source, calendar_year , derived_uth_admission_id, sum(allowed_amount) clm_total_allowed_amount\n",
    "\t\t\t\t\t\t\t\t\t\t\t\t\t, sum(paid_amount) clm_total_paid_amount\n",
    "\t\t\t\t\t\t\t\t\t\t\t\t\t, sum(charge_amount) clm_total_charge_amount\n",
    "\tfrom data_warehouse.admission_acute_ip_claims  \n",
    "\tgroup by data_source, calendar_year, derived_uth_admission_id) a \n",
    "left join \n",
    "\t(select data_source, calendar_year, derived_uth_admission_id, total_allowed_amount, total_paid_amount, total_charge_amount \n",
    "\t from data_warehouse.admission_acute_ip) b \n",
    "on a.derived_uth_admission_id=b.derived_uth_admission_id and a.calendar_year=b.calendar_year and a.data_source = b.data_source\n",
    ")\n",
    "select data_source, count(*)\n",
    "from a\n",
    "where diff_allowed_flag = 1 \n",
    "or diff_charge_flag = 1 \n",
    "or diff_paid_flag = 1\n",
    "group by 1\n",
    ";'''\n",
    "\n",
    "pd.read_sql(query, con=connection)"
   ]
  },
  {
   "cell_type": "markdown",
   "metadata": {},
   "source": [
    "## Other"
   ]
  },
  {
   "cell_type": "markdown",
   "metadata": {},
   "source": [
    "Double checking that member_id_src and claim_id_src are filled in the tables."
   ]
  },
  {
   "cell_type": "code",
   "execution_count": 14,
   "metadata": {},
   "outputs": [
    {
     "name": "stderr",
     "output_type": "stream",
     "text": [
      "c:\\Users\\iperez9\\.conda\\envs\\ip_env\\lib\\site-packages\\pandas\\io\\sql.py:762: UserWarning: pandas only support SQLAlchemy connectable(engine/connection) ordatabase string URI or sqlite3 DBAPI2 connectionother DBAPI2 objects are not tested, please consider using SQLAlchemy\n",
      "  warnings.warn(\n"
     ]
    },
    {
     "data": {
      "text/html": [
       "<div>\n",
       "<style scoped>\n",
       "    .dataframe tbody tr th:only-of-type {\n",
       "        vertical-align: middle;\n",
       "    }\n",
       "\n",
       "    .dataframe tbody tr th {\n",
       "        vertical-align: top;\n",
       "    }\n",
       "\n",
       "    .dataframe thead th {\n",
       "        text-align: right;\n",
       "    }\n",
       "</style>\n",
       "<table border=\"1\" class=\"dataframe\">\n",
       "  <thead>\n",
       "    <tr style=\"text-align: right;\">\n",
       "      <th></th>\n",
       "      <th>data_source</th>\n",
       "      <th>count</th>\n",
       "    </tr>\n",
       "  </thead>\n",
       "  <tbody>\n",
       "  </tbody>\n",
       "</table>\n",
       "</div>"
      ],
      "text/plain": [
       "Empty DataFrame\n",
       "Columns: [data_source, count]\n",
       "Index: []"
      ]
     },
     "execution_count": 14,
     "metadata": {},
     "output_type": "execute_result"
    }
   ],
   "source": [
    "query = '''\n",
    "select data_source, count(*)\n",
    "from dev.gm_dw_ip_admit\n",
    "where member_id_src is null or member_id_src = ''\n",
    "group by 1'''\n",
    "\n",
    "pd.read_sql(query, con=connection)"
   ]
  },
  {
   "cell_type": "code",
   "execution_count": 15,
   "metadata": {},
   "outputs": [
    {
     "name": "stderr",
     "output_type": "stream",
     "text": [
      "c:\\Users\\iperez9\\.conda\\envs\\ip_env\\lib\\site-packages\\pandas\\io\\sql.py:762: UserWarning: pandas only support SQLAlchemy connectable(engine/connection) ordatabase string URI or sqlite3 DBAPI2 connectionother DBAPI2 objects are not tested, please consider using SQLAlchemy\n",
      "  warnings.warn(\n"
     ]
    },
    {
     "data": {
      "text/html": [
       "<div>\n",
       "<style scoped>\n",
       "    .dataframe tbody tr th:only-of-type {\n",
       "        vertical-align: middle;\n",
       "    }\n",
       "\n",
       "    .dataframe tbody tr th {\n",
       "        vertical-align: top;\n",
       "    }\n",
       "\n",
       "    .dataframe thead th {\n",
       "        text-align: right;\n",
       "    }\n",
       "</style>\n",
       "<table border=\"1\" class=\"dataframe\">\n",
       "  <thead>\n",
       "    <tr style=\"text-align: right;\">\n",
       "      <th></th>\n",
       "      <th>data_source</th>\n",
       "      <th>count</th>\n",
       "    </tr>\n",
       "  </thead>\n",
       "  <tbody>\n",
       "  </tbody>\n",
       "</table>\n",
       "</div>"
      ],
      "text/plain": [
       "Empty DataFrame\n",
       "Columns: [data_source, count]\n",
       "Index: []"
      ]
     },
     "execution_count": 15,
     "metadata": {},
     "output_type": "execute_result"
    }
   ],
   "source": [
    "query = '''\n",
    "select data_source, count(*)\n",
    "from dev.gm_dw_ip_admit_claim\n",
    "where member_id_src is null or member_id_src = ''\n",
    "or claim_id_src is null or claim_id_src = ''\n",
    "group by 1'''\n",
    "\n",
    "pd.read_sql(query, con=connection)"
   ]
  }
 ],
 "metadata": {
  "interpreter": {
   "hash": "9bdaad3d394ea89ce00ddb536e5993ae2db68d958c6633130f06d54c64d198d8"
  },
  "kernelspec": {
   "display_name": "Python 3.8.13 ('psycog_env')",
   "language": "python",
   "name": "python3"
  },
  "language_info": {
   "codemirror_mode": {
    "name": "ipython",
    "version": 3
   },
   "file_extension": ".py",
   "mimetype": "text/x-python",
   "name": "python",
   "nbconvert_exporter": "python",
   "pygments_lexer": "ipython3",
   "version": "3.8.8"
  },
  "orig_nbformat": 4
 },
 "nbformat": 4,
 "nbformat_minor": 2
}
