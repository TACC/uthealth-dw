{
 "cells": [
  {
   "cell_type": "code",
   "execution_count": 2,
   "metadata": {},
   "outputs": [],
   "source": [
    "import pandas as pd\n",
    "import pyodbc\n",
    "connection = pyodbc.connect('DRIVER={ODBC Driver 17 for SQL Server};SERVER=spcdedpwpvs1;Trusted_Connection=yes;')"
   ]
  },
  {
   "cell_type": "code",
   "execution_count": 12,
   "metadata": {},
   "outputs": [],
   "source": [
    "connection.close()"
   ]
  },
  {
   "cell_type": "code",
   "execution_count": 3,
   "metadata": {},
   "outputs": [
    {
     "name": "stderr",
     "output_type": "stream",
     "text": [
      "C:\\Users\\iperez9\\.conda\\envs\\psycog_env\\lib\\site-packages\\pandas\\io\\sql.py:761: UserWarning: pandas only support SQLAlchemy connectable(engine/connection) ordatabase string URI or sqlite3 DBAPI2 connectionother DBAPI2 objects are not tested, please consider using SQLAlchemy\n",
      "  warnings.warn(\n"
     ]
    },
    {
     "data": {
      "text/plain": [
       "Index(['ICN', 'PRIM_DX_QAL', 'PRIM_DX_CD', 'DRG', 'ADM_DX_CD', 'DX_CD_QUAL_1',\n",
       "       'DX_CD_1', 'DX_CD_QUAL_2', 'DX_CD_2', 'DX_CD_QUAL_3', 'DX_CD_3',\n",
       "       'DX_CD_QUAL_4', 'DX_CD_4', 'DX_CD_QUAL_5', 'DX_CD_5', 'DX_CD_QUAL_6',\n",
       "       'DX_CD_6', 'DX_CD_QUAL_7', 'DX_CD_7', 'DX_CD_QUAL_8', 'DX_CD_8',\n",
       "       'DX_CD_QUAL_9', 'DX_CD_9', 'DX_CD_QUAL_10', 'DX_CD_10', 'DX_CD_QUAL_11',\n",
       "       'DX_CD_11', 'DX_CD_QUAL_12', 'DX_CD_12', 'DX_CD_QUAL_13', 'DX_CD_13',\n",
       "       'DX_CD_QUAL_14', 'DX_CD_14', 'DX_CD_QUAL_15', 'DX_CD_15',\n",
       "       'DX_CD_QUAL_16', 'DX_CD_16', 'DX_CD_QUAL_17', 'DX_CD_17',\n",
       "       'DX_CD_QUAL_18', 'DX_CD_18', 'DX_CD_QUAL_19', 'DX_CD_19',\n",
       "       'DX_CD_QUAL_20', 'DX_CD_20', 'DX_CD_QUAL_21', 'DX_CD_21',\n",
       "       'DX_CD_QUAL_22', 'DX_CD_22', 'DX_CD_QUAL_23', 'DX_CD_23',\n",
       "       'DX_CD_QUAL_24', 'DX_CD_24', 'DX_CD_QUAL_25', 'DX_CD_25', 'PRM_DX_POA',\n",
       "       'DX_POA_1', 'DX_POA_2', 'DX_POA_3', 'DX_POA_4', 'DX_POA_5', 'DX_POA_6',\n",
       "       'DX_POA_7', 'DX_POA_8', 'DX_POA_9', 'DX_POA_10', 'DX_POA_11',\n",
       "       'DX_POA_12', 'DX_POA_13', 'DX_POA_14', 'DX_POA_15', 'DX_POA_16',\n",
       "       'DX_POA_17', 'DX_POA_18', 'DX_POA_19', 'DX_POA_20', 'DX_POA_21',\n",
       "       'DX_POA_22', 'DX_POA_23', 'DX_POA_24', 'DX_POA_25', 'source_table',\n",
       "       'pcn', 'calendar_year'],\n",
       "      dtype='object')"
      ]
     },
     "execution_count": 3,
     "metadata": {},
     "output_type": "execute_result"
    }
   ],
   "source": [
    "df = pd.read_sql('select top 1 * from htw.dbo.clm_dx', con=connection)\n",
    "df.columns"
   ]
  },
  {
   "cell_type": "code",
   "execution_count": 5,
   "metadata": {},
   "outputs": [
    {
     "name": "stdout",
     "output_type": "stream",
     "text": [
      "\n",
      "with dep_dx as (\n",
      "select replace(dx_cd, '.', '') as dx_cd \n",
      "  from WRK.dbo.ip_htw_dep_dx_cd\n",
      ")\n",
      "select distinct mem_id, calendar_year\n",
      "  into WRK.dbo.ip_htw_dep_enc_dx\n",
      "where dx.PRIM_DX_CD = cd.CD_VAL\n",
      "   or dx.ADM_DX_CD = cd.CD_VAL\n",
      "   or dx.DX_CD_1 = cd.CD_VAL \n",
      "   or dx.DX_CD_2 = cd.CD_VAL \n",
      "   or dx.DX_CD_3 = cd.CD_VAL \n",
      "   or dx.DX_CD_4 = cd.CD_VAL \n",
      "   or dx.DX_CD_5 = cd.CD_VAL \n",
      "   or dx.DX_CD_6 = cd.CD_VAL \n",
      "   or dx.DX_CD_7 = cd.CD_VAL \n",
      "   or dx.DX_CD_8 = cd.CD_VAL \n",
      "   or dx.DX_CD_9 = cd.CD_VAL \n",
      "   or dx.DX_CD_10 = cd.CD_VAL \n",
      "   or dx.DX_CD_11 = cd.CD_VAL \n",
      "   or dx.DX_CD_12 = cd.CD_VAL \n",
      "   or dx.DX_CD_13 = cd.CD_VAL \n",
      "   or dx.DX_CD_14 = cd.CD_VAL \n",
      "   or dx.DX_CD_15 = cd.CD_VAL \n",
      "   or dx.DX_CD_16 = cd.CD_VAL \n",
      "   or dx.DX_CD_17 = cd.CD_VAL \n",
      "   or dx.DX_CD_18 = cd.CD_VAL \n",
      "   or dx.DX_CD_19 = cd.CD_VAL \n",
      "   or dx.DX_CD_20 = cd.CD_VAL \n",
      "   or dx.DX_CD_21 = cd.CD_VAL \n",
      "   or dx.DX_CD_22 = cd.CD_VAL \n",
      "   or dx.DX_CD_23 = cd.CD_VAL \n",
      "   or dx.DX_CD_24 = cd.CD_VAL \n",
      "\n"
     ]
    }
   ],
   "source": [
    "\n",
    "dep_dx_claims = '''\n",
    "with dep_dx as (\n",
    "select replace(dx_cd, '.', '') as dx_cd \n",
    "  from WRK.dbo.ip_htw_dep_dx_cd\n",
    ")\n",
    "select distinct pcn, calendar_year\n",
    "  into WRK.dbo.ip_htw_dep_clm_dx\n",
    "from htw.dbo.clm_dx dx, dx_cd cd\n",
    "where dx.PRIM_DX_CD = cd.CD_VAL\n",
    "   or dx.ADM_DX_CD = cd.CD_VAL\n",
    "'''\n",
    "\n",
    "for i in range(1,26):\n",
    "    dep_dx_claims += f'   or dx.DX_CD_{i} = cd.CD_VAL'\n",
    "    if i < 25:\n",
    "        dep_dx_claims += '\\n'\n",
    "\n",
    "dep_dx_enc =  '''\n",
    "with dep_dx as (\n",
    "select replace(dx_cd, '.', '') as dx_cd \n",
    "  from WRK.dbo.ip_htw_dep_dx_cd\n",
    ")\n",
    "select distinct mem_id, calendar_year\n",
    "  into WRK.dbo.ip_htw_dep_enc_dx\n",
    "where dx.PRIM_DX_CD = cd.CD_VAL\n",
    "   or dx.ADM_DX_CD = cd.CD_VAL\n",
    "'''   \n",
    "for i in range(1,25):\n",
    "    dep_dx_enc += f'   or dx.DX_CD_{i} = cd.CD_VAL \\n'\n",
    "\n",
    "print(dep_dx_enc)"
   ]
  },
  {
   "cell_type": "code",
   "execution_count": 6,
   "metadata": {},
   "outputs": [
    {
     "name": "stdout",
     "output_type": "stream",
     "text": [
      "\n",
      "with dep_dx as (\n",
      "select replace(dx_cd, '.', '') as dx_cd \n",
      "  from WRK.dbo.ip_htw_dep_dx_cd\n",
      ")\n",
      "select distinct pcn, calendar_year\n",
      "  into WRK.dbo.ip_htw_dep_clm_dx\n",
      "from htw.dbo.clm_dx dx, dx_cd cd\n",
      "where dx.PRIM_DX_CD = cd.CD_VAL\n",
      "   or dx.ADM_DX_CD = cd.CD_VAL\n",
      "   or dx.DX_CD_1 = cd.CD_VAL\n",
      "   or dx.DX_CD_2 = cd.CD_VAL\n",
      "   or dx.DX_CD_3 = cd.CD_VAL\n",
      "   or dx.DX_CD_4 = cd.CD_VAL\n",
      "   or dx.DX_CD_5 = cd.CD_VAL\n",
      "   or dx.DX_CD_6 = cd.CD_VAL\n",
      "   or dx.DX_CD_7 = cd.CD_VAL\n",
      "   or dx.DX_CD_8 = cd.CD_VAL\n",
      "   or dx.DX_CD_9 = cd.CD_VAL\n",
      "   or dx.DX_CD_10 = cd.CD_VAL\n",
      "   or dx.DX_CD_11 = cd.CD_VAL\n",
      "   or dx.DX_CD_12 = cd.CD_VAL\n",
      "   or dx.DX_CD_13 = cd.CD_VAL\n",
      "   or dx.DX_CD_14 = cd.CD_VAL\n",
      "   or dx.DX_CD_15 = cd.CD_VAL\n",
      "   or dx.DX_CD_16 = cd.CD_VAL\n",
      "   or dx.DX_CD_17 = cd.CD_VAL\n",
      "   or dx.DX_CD_18 = cd.CD_VAL\n",
      "   or dx.DX_CD_19 = cd.CD_VAL\n",
      "   or dx.DX_CD_20 = cd.CD_VAL\n",
      "   or dx.DX_CD_21 = cd.CD_VAL\n",
      "   or dx.DX_CD_22 = cd.CD_VAL\n",
      "   or dx.DX_CD_23 = cd.CD_VAL\n",
      "   or dx.DX_CD_24 = cd.CD_VAL\n",
      "   or dx.DX_CD_25 = cd.CD_VAL\n"
     ]
    }
   ],
   "source": [
    "print(dep_dx_claims)"
   ]
  },
  {
   "cell_type": "code",
   "execution_count": 7,
   "metadata": {},
   "outputs": [
    {
     "name": "stderr",
     "output_type": "stream",
     "text": [
      "C:\\Users\\iperez9\\.conda\\envs\\psycog_env\\lib\\site-packages\\pandas\\io\\sql.py:761: UserWarning: pandas only support SQLAlchemy connectable(engine/connection) ordatabase string URI or sqlite3 DBAPI2 connectionother DBAPI2 objects are not tested, please consider using SQLAlchemy\n",
      "  warnings.warn(\n"
     ]
    }
   ],
   "source": [
    "total = pd.read_sql('select * from wrk.dbo.ip_htw_dep_total_count order by Calendar_Year', con=connection)\n",
    "total.to_clipboard(index=False)"
   ]
  },
  {
   "cell_type": "code",
   "execution_count": 8,
   "metadata": {},
   "outputs": [
    {
     "name": "stderr",
     "output_type": "stream",
     "text": [
      "C:\\Users\\iperez9\\.conda\\envs\\psycog_env\\lib\\site-packages\\pandas\\io\\sql.py:761: UserWarning: pandas only support SQLAlchemy connectable(engine/connection) ordatabase string URI or sqlite3 DBAPI2 connectionother DBAPI2 objects are not tested, please consider using SQLAlchemy\n",
      "  warnings.warn(\n"
     ]
    }
   ],
   "source": [
    "age_group = pd.read_sql('select * from wrk.dbo.ip_htw_dep_agegrp_count order by CY, AgeGrp', con=connection)\n",
    "age_group.to_clipboard(index=False)"
   ]
  },
  {
   "cell_type": "code",
   "execution_count": 9,
   "metadata": {},
   "outputs": [
    {
     "name": "stderr",
     "output_type": "stream",
     "text": [
      "C:\\Users\\iperez9\\.conda\\envs\\psycog_env\\lib\\site-packages\\pandas\\io\\sql.py:761: UserWarning: pandas only support SQLAlchemy connectable(engine/connection) ordatabase string URI or sqlite3 DBAPI2 connectionother DBAPI2 objects are not tested, please consider using SQLAlchemy\n",
      "  warnings.warn(\n"
     ]
    }
   ],
   "source": [
    "race_group = pd.read_sql('select * from wrk.dbo.ip_htw_dep_racegrp_count order by CY, RaceGrp', con=connection)\n",
    "race_group.to_clipboard(index=False)"
   ]
  },
  {
   "cell_type": "code",
   "execution_count": 10,
   "metadata": {},
   "outputs": [
    {
     "name": "stderr",
     "output_type": "stream",
     "text": [
      "C:\\Users\\iperez9\\.conda\\envs\\psycog_env\\lib\\site-packages\\pandas\\io\\sql.py:761: UserWarning: pandas only support SQLAlchemy connectable(engine/connection) ordatabase string URI or sqlite3 DBAPI2 connectionother DBAPI2 objects are not tested, please consider using SQLAlchemy\n",
      "  warnings.warn(\n"
     ]
    }
   ],
   "source": [
    "region_group1 = pd.read_sql('select * from wrk.dbo.ip_htw_dep_regiongrp_count order by Calendar_Year, RegionGrp', con=connection)\n",
    "region_group1.to_clipboard(index=False)"
   ]
  },
  {
   "cell_type": "code",
   "execution_count": 11,
   "metadata": {},
   "outputs": [
    {
     "name": "stderr",
     "output_type": "stream",
     "text": [
      "C:\\Users\\iperez9\\.conda\\envs\\psycog_env\\lib\\site-packages\\pandas\\io\\sql.py:761: UserWarning: pandas only support SQLAlchemy connectable(engine/connection) ordatabase string URI or sqlite3 DBAPI2 connectionother DBAPI2 objects are not tested, please consider using SQLAlchemy\n",
      "  warnings.warn(\n"
     ]
    }
   ],
   "source": [
    "region_group2 = pd.read_sql('select * from wrk.dbo.ip_htw_dep_servicegrp_count order by CY, Seq, RegionGrp', con=connection)\n",
    "region_group2.iloc[:, :-1].to_clipboard(index=False)"
   ]
  }
 ],
 "metadata": {
  "interpreter": {
   "hash": "9bdaad3d394ea89ce00ddb536e5993ae2db68d958c6633130f06d54c64d198d8"
  },
  "kernelspec": {
   "display_name": "Python 3.8.13 ('psycog_env')",
   "language": "python",
   "name": "python3"
  },
  "language_info": {
   "codemirror_mode": {
    "name": "ipython",
    "version": 3
   },
   "file_extension": ".py",
   "mimetype": "text/x-python",
   "name": "python",
   "nbconvert_exporter": "python",
   "pygments_lexer": "ipython3",
   "version": "3.8.13"
  },
  "orig_nbformat": 4
 },
 "nbformat": 4,
 "nbformat_minor": 2
}
