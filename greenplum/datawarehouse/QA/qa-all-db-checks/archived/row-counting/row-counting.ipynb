{
 "cells": [
  {
   "cell_type": "code",
   "execution_count": 1,
   "metadata": {},
   "outputs": [],
   "source": [
    "# Import packages\n",
    "\n",
    "import numpy as np\n",
    "import pandas as pd\n",
    "import pyodbc #for SPC connection\n",
    "import psycopg2 #for Greenplum connection\n",
    "import psycopg2.extras #for Greenplum connection\n",
    "import keyring #for password hiding\n",
    "import xlwt as xl #for writing to excel\n",
    "import difflib #for string matching"
   ]
  },
  {
   "cell_type": "code",
   "execution_count": null,
   "metadata": {},
   "outputs": [],
   "source": [
    "# if you haven't set this up before, set your password up in keyring\n",
    "# by replacing \"username\" and \"password\" with your username and password for the TACC server.\n",
    "# Keyring stores the password in the OS and is retrievable in other sessions\n",
    "# so this code only needs to be run once.\n",
    "\n",
    "# In future sessions, skip this chunk\n",
    "keyring.set_password(\"TACC\", \"username\", \"password\") # REPLACE THIS WITH ACTUAL USERNAME AND PASSWORD!!!\n"
   ]
  },
  {
   "cell_type": "code",
   "execution_count": 2,
   "metadata": {},
   "outputs": [],
   "source": [
    "# Connect to local sql server\n",
    "# Pre-req: You need to set up the ODBC connection before this cell can be run\n",
    "try:\n",
    "    spc = pyodbc.connect(DRIVER=\"ODBC Driver 17 for SQL Server\",\n",
    "        SERVER=\"spcdedpwpvs1\",\n",
    "        database=\"MEDICAID\",\n",
    "        Trusted_Connection=\"yes\")\n",
    "except:\n",
    "    print(\"Connection failed\")"
   ]
  },
  {
   "cell_type": "code",
   "execution_count": null,
   "metadata": {},
   "outputs": [],
   "source": [
    "# Connect to Greenplum\n",
    "try:\n",
    "    tacc = psycopg2.connect(dbname='uthealth', user='xrzhang',\n",
    "                host='greenplum01.corral.tacc.utexas.edu',\n",
    "                password=keyring.get_password(\"TACC\", \"xrzhang\"))\n",
    "except:\n",
    "    print(\"Connection failed\")"
   ]
  },
  {
   "cell_type": "code",
   "execution_count": null,
   "metadata": {},
   "outputs": [],
   "source": [
    "# Clear all variables except for connections\n",
    "%reset_selective -f \"^((?!spc|tacc).)*$\""
   ]
  },
  {
   "cell_type": "code",
   "execution_count": null,
   "metadata": {},
   "outputs": [],
   "source": [
    "#Pull all tables and estimated row counts from Medicaid db\n",
    "spc_tables = pd.read_sql(\"\"\"select t.name as Tablename, p.[Rows] as EstRows\n",
    "        from sys.tables t\n",
    "            inner join sys.indexes i on t.object_id = i.object_id\n",
    "            inner join sys.partitions p on i.object_id = p.OBJECT_ID and i.index_id = p.index_id\n",
    "        --where t.name like 'medicaid.dbo.%'\n",
    "        order by tablename\"\"\", con=spc)\n",
    "spc_tables.head()"
   ]
  },
  {
   "cell_type": "code",
   "execution_count": null,
   "metadata": {},
   "outputs": [],
   "source": [
    "# Pull tables and estimated row counts from TACC server\n",
    "tacc_tables = pd.read_sql(\"\"\"select relname as Tablename, n_live_tup as EstRows\n",
    "    from pg_stat_user_tables\n",
    "    where schemaname = 'medicaid'\n",
    "    order by relname\n",
    "    \"\"\", con=tacc)\n",
    "tacc_tables.head()"
   ]
  },
  {
   "cell_type": "code",
   "execution_count": null,
   "metadata": {},
   "outputs": [],
   "source": [
    "# Write table names to excel spreadsheet\n",
    "spc_tables.to_excel(\"H:\\\\GitHub\\\\uthealth-dw\\\\greenplum\\\\datawarehouse\\\\QA\\\\qa-all-db-checks\\\\row-counting\\\\tablenames_spc.xlsx\",\n",
    "    sheet_name = 'SPC Tables')\n",
    "\n",
    "tacc_tables.to_excel(\"H:\\\\GitHub\\\\uthealth-dw\\\\greenplum\\\\datawarehouse\\\\QA\\\\qa-all-db-checks\\\\row-counting\\\\tablenames_tacc.xlsx\",\n",
    "sheet_name = 'TACC Tables')"
   ]
  },
  {
   "cell_type": "code",
   "execution_count": null,
   "metadata": {},
   "outputs": [],
   "source": [
    "# Write table names to excel spreadsheet\n",
    "tablenames = xl.Workbook()\n",
    "spc_tables_sheet = tablenames.add_sheet('SPC Tables', cell_overwrite_ok=True)\n",
    "tacc_tables_sheet = tablenames.add_sheet('TACC Tables', cell_overwrite_ok=True)\n",
    "\n",
    "spc_tables_sheet.write(1,1,spc_tables)\n",
    "tacc_tables_sheet.write(1,1,tacc_tables)\n",
    "\n",
    "tablenames.save(\"H:\\\\GitHub\\\\uthealth-dw\\\\greenplum\\\\datawarehouse\\\\QA\\\\qa-all-db-checks\\\\row-counting\\\\tablenames.xlsx\")"
   ]
  },
  {
   "cell_type": "code",
   "execution_count": null,
   "metadata": {},
   "outputs": [],
   "source": [
    "for i in range(len(spc_tables)):\n",
    "    print(spc_tables.iloc[i,0])"
   ]
  },
  {
   "cell_type": "code",
   "execution_count": null,
   "metadata": {},
   "outputs": [],
   "source": [
    "#Decide what tables to keep\n",
    "\n"
   ]
  },
  {
   "cell_type": "code",
   "execution_count": null,
   "metadata": {},
   "outputs": [],
   "source": [
    "#initialize vector to hold actual row count\n",
    "ActualRows = np.zeros(len(df))\n",
    "df = df.assign(ActualRows=ActualRows)\n",
    "df"
   ]
  },
  {
   "cell_type": "code",
   "execution_count": null,
   "metadata": {},
   "outputs": [],
   "source": []
  },
  {
   "cell_type": "code",
   "execution_count": null,
   "metadata": {},
   "outputs": [],
   "source": []
  },
  {
   "cell_type": "code",
   "execution_count": null,
   "metadata": {},
   "outputs": [],
   "source": []
  },
  {
   "cell_type": "code",
   "execution_count": null,
   "metadata": {},
   "outputs": [],
   "source": []
  },
  {
   "cell_type": "code",
   "execution_count": null,
   "metadata": {},
   "outputs": [],
   "source": []
  },
  {
   "cell_type": "code",
   "execution_count": null,
   "metadata": {},
   "outputs": [],
   "source": [
    "# Unused testing cells after here"
   ]
  },
  {
   "cell_type": "code",
   "execution_count": null,
   "metadata": {},
   "outputs": [],
   "source": [
    "df = pd.read_sql(\"\"\"select schema_name(schema_id), name\n",
    "        from sys.tables\n",
    "        --where name = \"admit1820\"\n",
    "        --where schema_id = 1\n",
    "        \"\"\", con=spc)\n",
    "df"
   ]
  },
  {
   "cell_type": "code",
   "execution_count": null,
   "metadata": {},
   "outputs": [],
   "source": [
    "df = pd.read_sql(\"\"\"select db_name() as db\n",
    "        \"\"\", con=spc)\n",
    "df"
   ]
  },
  {
   "cell_type": "code",
   "execution_count": null,
   "metadata": {},
   "outputs": [],
   "source": [
    "tacc_tables = pd.read_sql(\"\"\"select table_name\n",
    "    from information_schema.tables\n",
    "    where table_schema = 'medicaid'\n",
    "    order by table_name\n",
    "    \"\"\", con=tacc)\n",
    "tacc_tables.head()"
   ]
  },
  {
   "cell_type": "code",
   "execution_count": null,
   "metadata": {},
   "outputs": [],
   "source": [
    "df2 = pd.read_sql('select * from dev.xz_dx_codes limit 10;', con=tacc)\n",
    "df2.head()"
   ]
  },
  {
   "cell_type": "code",
   "execution_count": null,
   "metadata": {},
   "outputs": [],
   "source": []
  },
  {
   "cell_type": "code",
   "execution_count": null,
   "metadata": {},
   "outputs": [],
   "source": []
  },
  {
   "cell_type": "code",
   "execution_count": null,
   "metadata": {},
   "outputs": [],
   "source": []
  },
  {
   "cell_type": "code",
   "execution_count": null,
   "metadata": {},
   "outputs": [],
   "source": []
  },
  {
   "cell_type": "code",
   "execution_count": null,
   "metadata": {},
   "outputs": [],
   "source": []
  },
  {
   "cell_type": "code",
   "execution_count": null,
   "metadata": {},
   "outputs": [],
   "source": []
  },
  {
   "cell_type": "code",
   "execution_count": null,
   "metadata": {},
   "outputs": [],
   "source": [
    "df = pd.read_sql('select top 10 * from work.dbo.xz_dx_codes', con=spc)\n",
    "df.head()"
   ]
  },
  {
   "cell_type": "code",
   "execution_count": null,
   "metadata": {},
   "outputs": [],
   "source": [
    "df2 = pd.read_sql('select * from dev.xz_dx_codes limit 10;', con=tacc)\n",
    "df2.head()"
   ]
  },
  {
   "cell_type": "code",
   "execution_count": null,
   "metadata": {},
   "outputs": [],
   "source": [
    "# Manually close connection\n",
    "tacc.close()"
   ]
  },
  {
   "cell_type": "code",
   "execution_count": null,
   "metadata": {},
   "outputs": [],
   "source": []
  }
 ],
 "metadata": {
  "interpreter": {
   "hash": "b3ba2566441a7c06988d0923437866b63cedc61552a5af99d1f4fb67d367b25f"
  },
  "kernelspec": {
   "display_name": "Python 3.9.7 ('base')",
   "language": "python",
   "name": "python3"
  },
  "language_info": {
   "codemirror_mode": {
    "name": "ipython",
    "version": 3
   },
   "file_extension": ".py",
   "mimetype": "text/x-python",
   "name": "python",
   "nbconvert_exporter": "python",
   "pygments_lexer": "ipython3",
   "version": "3.9.7"
  },
  "orig_nbformat": 4
 },
 "nbformat": 4,
 "nbformat_minor": 2
}
