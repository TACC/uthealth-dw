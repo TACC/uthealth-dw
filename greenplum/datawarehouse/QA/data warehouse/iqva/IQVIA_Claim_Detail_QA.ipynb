{
 "cells": [
  {
   "cell_type": "markdown",
   "metadata": {},
   "source": [
    "Initialization  \n",
    "\n",
    "Just importing necessary packages and connecting to the database. "
   ]
  },
  {
   "cell_type": "code",
   "execution_count": 2,
   "metadata": {},
   "outputs": [
    {
     "name": "stderr",
     "output_type": "stream",
     "text": [
      "C:\\Users\\piacobelli\\.conda\\envs\\piacobelliEnv\\lib\\site-packages\\numpy\\_distributor_init.py:30: UserWarning: loaded more than 1 DLL from .libs:\n",
      "C:\\Users\\piacobelli\\.conda\\envs\\piacobelliEnv\\lib\\site-packages\\numpy\\.libs\\libopenblas.EL2C6PLE4ZYW3ECEVIV3OXXGRN2NRFM2.gfortran-win_amd64.dll\n",
      "C:\\Users\\piacobelli\\.conda\\envs\\piacobelliEnv\\lib\\site-packages\\numpy\\.libs\\libopenblas64__v0.3.21-gcc_10_3_0.dll\n",
      "  warnings.warn(\"loaded more than 1 DLL from .libs:\"\n"
     ]
    }
   ],
   "source": [
    "from telnetlib import STATUS\n",
    "import psycopg2\n",
    "import pandas as pd\n",
    "import sys\n",
    "from tqdm import tqdm\n",
    "\n",
    "password = 'PAiac14-'\n",
    "host = 'greenplum01.corral.tacc.utexas.edu'\n",
    "port = 5432\n",
    "database = 'uthealth'\n",
    "\n",
    "username = 'piacobelli'\n",
    "connection = psycopg2.connect(\n",
    "    host = host, \n",
    "    database = database, \n",
    "    user = username, \n",
    "    port = port, \n",
    "    password = password, \n",
    "    keepalives = 1, keepalives_idle = 100\n",
    ")\n",
    "connection.autocommit = True\n"
   ]
  },
  {
   "cell_type": "markdown",
   "metadata": {},
   "source": [
    "Row Count And Claim Count\n",
    "\n",
    "Creating an initial table to compare the row counts, member ID counts, and claim ID counts between the raw data and the data warehouse. "
   ]
  },
  {
   "cell_type": "code",
   "execution_count": 6,
   "metadata": {},
   "outputs": [],
   "source": [
    "tableCreateQuery = ''' \n",
    "DROP TABLE IF EXISTS qa_reporting.dw_iqva_claim_detail_counts;\n",
    "CREATE TABLE qa_reporting.dw_iqva_claim_detail_counts\n",
    "(\n",
    "    calendar_year INT,\n",
    "    table_src TEXT,\n",
    "    dw_row_count BIGINT,\n",
    "    src_row_count BIGINT,\n",
    "    row_count_diff BIGINT,\n",
    "    row_count_diff_percentage FLOAT,\n",
    "    dw_uth_clm_id_count BIGINT,\n",
    "    dw_src_clm_id_count BIGINT,\n",
    "    src_clm_count BIGINT,\n",
    "    clm_count_diff BIGINT,\n",
    "    clm_count_percentage FLOAT,\n",
    "    dw_uth_mbr_id_count BIGINT,\n",
    "    dw_src_mbr_id_count BIGINT,\n",
    "    src_mbr_count BIGINT,\n",
    "    mbr_count_diff BIGINT,\n",
    "    mbr_count_percentage FLOAT,\n",
    "    date_generated DATE\n",
    ");\n",
    "'''\n",
    "\n",
    "with connection.cursor() as cursor:\n",
    "    cursor.execute(tableCreateQuery)"
   ]
  },
  {
   "cell_type": "code",
   "execution_count": 7,
   "metadata": {},
   "outputs": [],
   "source": [
    "with connection.cursor() as cursor:\n",
    "    countInsertQuery = f'''\n",
    "        INSERT INTO qa_reporting.dw_iqva_claim_detail_counts\n",
    "        (\n",
    "            calendar_year, \n",
    "            table_src, \n",
    "            dw_row_count, \n",
    "            date_generated\n",
    "        )\n",
    "        SELECT \n",
    "            year, \n",
    "            table_id_src, \n",
    "            COUNT(*), \n",
    "            current_date\n",
    "        FROM dw_staging.iqva_claim_detail\n",
    "        GROUP BY 1,2;\n",
    "    '''\n",
    "\n",
    "    cursor.execute(countInsertQuery)"
   ]
  },
  {
   "cell_type": "code",
   "execution_count": 8,
   "metadata": {},
   "outputs": [],
   "source": [
    "with connection.cursor() as cursor:\n",
    "\n",
    "    clmCountUpdateQuery = f'''\n",
    "        UPDATE qa_reporting.dw_iqva_claim_detail_counts b\n",
    "        SET dw_uth_clm_id_count = count\n",
    "        FROM (\n",
    "            SELECT \n",
    "                year, \n",
    "                COUNT(DISTINCT uth_claim_id) AS count \n",
    "            FROM dw_staging.iqva_claim_detail\n",
    "            GROUP BY 1\n",
    "        ) a\n",
    "        WHERE a.year = b.calendar_year\n",
    "    '''\n",
    "\n",
    "    cursor.execute(clmCountUpdateQuery)"
   ]
  },
  {
   "cell_type": "code",
   "execution_count": 10,
   "metadata": {},
   "outputs": [],
   "source": [
    "with connection.cursor() as cursor:\n",
    "\n",
    "    mbrCountUpdateQuery = f'''\n",
    "        UPDATE qa_reporting.dw_iqva_claim_detail_counts b\n",
    "        SET dw_uth_mbr_id_count = count\n",
    "        FROM (\n",
    "            SELECT \n",
    "                year, \n",
    "                COUNT(DISTINCT uth_member_id) AS count \n",
    "            FROM dw_staging.iqva_claim_detail\n",
    "            GROUP BY 1\n",
    "        ) a\n",
    "        WHERE a.year = b.calendar_year\n",
    "    '''\n",
    "\n",
    "    cursor.execute(mbrCountUpdateQuery)"
   ]
  },
  {
   "cell_type": "code",
   "execution_count": 9,
   "metadata": {},
   "outputs": [],
   "source": [
    "with connection.cursor() as cursor:\n",
    "\n",
    "    srcCountUpdateQuery = f'''\n",
    "        UPDATE qa_reporting.dw_iqva_claim_detail_counts b\n",
    "        SET dw_src_clm_id_count = clm_count, dw_src_mbr_id_count = mbr_count\n",
    "        FROM (\n",
    "            SELECT \n",
    "                year, \n",
    "                COUNT(DISTINCT claim_id_src) AS clm_count, \n",
    "                COUNT(DISTINCT member_id_src) AS mbr_count \n",
    "            FROM dw_staging.iqva_claim_detail\n",
    "            GROUP BY 1\n",
    "        ) a\n",
    "        WHERE a.year = b.calendar_year\n",
    "    '''\n",
    "\n",
    "    cursor.execute(srcCountUpdateQuery)"
   ]
  },
  {
   "cell_type": "code",
   "execution_count": 4,
   "metadata": {},
   "outputs": [],
   "source": [
    "with connection.cursor() as cursor:\n",
    "\n",
    "    compUpdateQuery = '''    \n",
    "        WITH clm_counts AS (\n",
    "            SELECT \n",
    "                year,\n",
    "                COUNT(*) row_count, \n",
    "                COUNT(DISTINCT pat_id) pat_count, \n",
    "                COUNT(DISTINCT derv_claimno) clm_count\n",
    "            FROM dev.pi_iqvia_derv_claimno_new_all_yr\n",
    "            WHERE new_rectype != 'P' OR new_rectype IS NULL\n",
    "            GROUP BY 1\n",
    "        )\n",
    "        UPDATE qa_reporting.dw_iqva_claim_detail_counts a\n",
    "        SET src_row_count = b.row_count,\n",
    "            row_count_diff = dw_row_count - b.row_count,\n",
    "            row_count_diff_percentage = 100. * abs( dw_row_count - b.row_count) / b.row_count,\n",
    "            src_clm_count = clm_count,\n",
    "            clm_count_diff = dw_uth_clm_id_count - b.clm_count,\n",
    "            clm_count_percentage = 100. * abs(dw_uth_clm_id_count - b.clm_count) / b.clm_count,\n",
    "            src_mbr_count = b.pat_count,\n",
    "            mbr_count_diff = dw_uth_mbr_id_count - b.pat_count,\n",
    "            mbr_count_percentage = 100. * abs(dw_uth_mbr_id_count - b.pat_count) / b.pat_count\n",
    "        FROM clm_counts b\n",
    "        WHERE a.calendar_year = b.year;\n",
    "    '''\n",
    "\n",
    "    cursor.execute(compUpdateQuery)\n",
    "\n",
    "    "
   ]
  },
  {
   "cell_type": "code",
   "execution_count": 15,
   "metadata": {},
   "outputs": [
    {
     "name": "stdout",
     "output_type": "stream",
     "text": [
      "    calendar_year table_src  dw_row_count  src_row_count  row_count_diff  \\\n",
      "0            2018    claims     329711260      329711260               0   \n",
      "1            2020    claims     262362411      262362411               0   \n",
      "2            2008    claims     752001864      752001864               0   \n",
      "3            2021    claims     295469952      295469952               0   \n",
      "4            2014    claims     615792857      615792857               0   \n",
      "5            2009    claims     759139403      759139403               0   \n",
      "6            2019    claims     333397785      333397785               0   \n",
      "7            2006    claims     547972991      547972991               0   \n",
      "8            2012    claims     615799526      615799526               0   \n",
      "9            2011    claims     651936894      651936894               0   \n",
      "10           2017    claims     465448852      465448852               0   \n",
      "11           2013    claims     575391138      575391138               0   \n",
      "12           2016    claims     603322301      603322301               0   \n",
      "13           2022    claims     296642507      296642507               0   \n",
      "14           2023    claims     104947333      104947333               0   \n",
      "15           2015    claims     582695183      582695183               0   \n",
      "16           2007    claims     662430963      662430963               0   \n",
      "17           2010    claims     651457191      651457191               0   \n",
      "\n",
      "    row_count_diff_percentage  dw_uth_clm_id_count  dw_src_clm_id_count  \\\n",
      "0                         0.0            145826452            145826452   \n",
      "1                         0.0            117298609            117298609   \n",
      "2                         0.0            354750501            354750501   \n",
      "3                         0.0            130458347            130458347   \n",
      "4                         0.0            258613232            258613232   \n",
      "5                         0.0            356449255            356449255   \n",
      "6                         0.0            147261337            147261337   \n",
      "7                         0.0            251635227            251635227   \n",
      "8                         0.0            278931175            278931175   \n",
      "9                         0.0            312316625            312316625   \n",
      "10                        0.0            202683455            202683455   \n",
      "11                        0.0            243542376            243542376   \n",
      "12                        0.0            256247071            256247071   \n",
      "13                        0.0            129495470            129495470   \n",
      "14                        0.0             45999499             45999499   \n",
      "15                        0.0            244296180            244296180   \n",
      "16                        0.0            318837404            318837404   \n",
      "17                        0.0            311053512            311053512   \n",
      "\n",
      "    src_clm_count  clm_count_diff  clm_count_percentage  dw_uth_mbr_id_count  \\\n",
      "0       145826452               0                   0.0             10605487   \n",
      "1       117298609               0                   0.0              9082131   \n",
      "2       354750501               0                   0.0             26833470   \n",
      "3       130458347               0                   0.0              8464479   \n",
      "4       258613232               0                   0.0             21170732   \n",
      "5       356449255               0                   0.0             25640560   \n",
      "6       147261337               0                   0.0             10694901   \n",
      "7       251635227               0                   0.0             21331495   \n",
      "8       278931175               0                   0.0             21025013   \n",
      "9       312316625               0                   0.0             22667876   \n",
      "10      202683455               0                   0.0             17160500   \n",
      "11      243542376               0                   0.0             19101244   \n",
      "12      256247071               0                   0.0             20319407   \n",
      "13      129495470               0                   0.0              8345029   \n",
      "14       45999499               0                   0.0              5447043   \n",
      "15      244296180               0                   0.0             19479290   \n",
      "16      318837404               0                   0.0             24612004   \n",
      "17      311053512               0                   0.0             22715177   \n",
      "\n",
      "    dw_src_mbr_id_count  src_mbr_count  mbr_count_diff  mbr_count_percentage  \\\n",
      "0              10605487       10605487               0                   0.0   \n",
      "1               9082131        9082131               0                   0.0   \n",
      "2              26833470       26833470               0                   0.0   \n",
      "3               8464479        8464479               0                   0.0   \n",
      "4              21170732       21170732               0                   0.0   \n",
      "5              25640560       25640560               0                   0.0   \n",
      "6              10694901       10694901               0                   0.0   \n",
      "7              21331495       21331495               0                   0.0   \n",
      "8              21025013       21025013               0                   0.0   \n",
      "9              22667876       22667876               0                   0.0   \n",
      "10             17160500       17160500               0                   0.0   \n",
      "11             19101244       19101244               0                   0.0   \n",
      "12             20319407       20319407               0                   0.0   \n",
      "13              8345029        8345029               0                   0.0   \n",
      "14              5447043        5447043               0                   0.0   \n",
      "15             19479290       19479290               0                   0.0   \n",
      "16             24612004       24612004               0                   0.0   \n",
      "17             22715177       22715177               0                   0.0   \n",
      "\n",
      "   date_generated  \n",
      "0      2024-04-08  \n",
      "1      2024-04-08  \n",
      "2      2024-04-08  \n",
      "3      2024-04-08  \n",
      "4      2024-04-08  \n",
      "5      2024-04-08  \n",
      "6      2024-04-08  \n",
      "7      2024-04-08  \n",
      "8      2024-04-08  \n",
      "9      2024-04-08  \n",
      "10     2024-04-08  \n",
      "11     2024-04-08  \n",
      "12     2024-04-08  \n",
      "13     2024-04-08  \n",
      "14     2024-04-08  \n",
      "15     2024-04-08  \n",
      "16     2024-04-08  \n",
      "17     2024-04-08  \n"
     ]
    },
    {
     "name": "stderr",
     "output_type": "stream",
     "text": [
      "C:\\Users\\piacobelli\\AppData\\Local\\Temp\\6\\ipykernel_5068\\204843148.py:1: UserWarning: pandas only supports SQLAlchemy connectable (engine/connection) or database string URI or sqlite3 DBAPI2 connection. Other DBAPI2 objects are not tested. Please consider using SQLAlchemy.\n",
      "  countsDf = pd.read_sql('SELECT * FROM qa_reporting.dw_iqva_claim_detail_counts;', con=connection)\n"
     ]
    }
   ],
   "source": [
    "countsDf = pd.read_sql('SELECT * FROM qa_reporting.dw_iqva_claim_detail_counts;', con=connection)\n",
    "countsDf.sort_values('calendar_year')\n",
    "print(countsDf)"
   ]
  },
  {
   "cell_type": "code",
   "execution_count": 16,
   "metadata": {},
   "outputs": [
    {
     "data": {
      "text/html": [
       "<div>\n",
       "<style scoped>\n",
       "    .dataframe tbody tr th:only-of-type {\n",
       "        vertical-align: middle;\n",
       "    }\n",
       "\n",
       "    .dataframe tbody tr th {\n",
       "        vertical-align: top;\n",
       "    }\n",
       "\n",
       "    .dataframe thead th {\n",
       "        text-align: right;\n",
       "    }\n",
       "</style>\n",
       "<table border=\"1\" class=\"dataframe\">\n",
       "  <thead>\n",
       "    <tr style=\"text-align: right;\">\n",
       "      <th></th>\n",
       "      <th>calendar_year</th>\n",
       "      <th>table_src</th>\n",
       "      <th>row_count_diff_percentage</th>\n",
       "      <th>clm_count_percentage</th>\n",
       "      <th>mbr_count_percentage</th>\n",
       "    </tr>\n",
       "  </thead>\n",
       "  <tbody>\n",
       "    <tr>\n",
       "      <th>0</th>\n",
       "      <td>2018</td>\n",
       "      <td>claims</td>\n",
       "      <td>0.0</td>\n",
       "      <td>0.0</td>\n",
       "      <td>0.0</td>\n",
       "    </tr>\n",
       "    <tr>\n",
       "      <th>1</th>\n",
       "      <td>2020</td>\n",
       "      <td>claims</td>\n",
       "      <td>0.0</td>\n",
       "      <td>0.0</td>\n",
       "      <td>0.0</td>\n",
       "    </tr>\n",
       "    <tr>\n",
       "      <th>16</th>\n",
       "      <td>2007</td>\n",
       "      <td>claims</td>\n",
       "      <td>0.0</td>\n",
       "      <td>0.0</td>\n",
       "      <td>0.0</td>\n",
       "    </tr>\n",
       "    <tr>\n",
       "      <th>15</th>\n",
       "      <td>2015</td>\n",
       "      <td>claims</td>\n",
       "      <td>0.0</td>\n",
       "      <td>0.0</td>\n",
       "      <td>0.0</td>\n",
       "    </tr>\n",
       "    <tr>\n",
       "      <th>14</th>\n",
       "      <td>2023</td>\n",
       "      <td>claims</td>\n",
       "      <td>0.0</td>\n",
       "      <td>0.0</td>\n",
       "      <td>0.0</td>\n",
       "    </tr>\n",
       "    <tr>\n",
       "      <th>13</th>\n",
       "      <td>2022</td>\n",
       "      <td>claims</td>\n",
       "      <td>0.0</td>\n",
       "      <td>0.0</td>\n",
       "      <td>0.0</td>\n",
       "    </tr>\n",
       "    <tr>\n",
       "      <th>12</th>\n",
       "      <td>2016</td>\n",
       "      <td>claims</td>\n",
       "      <td>0.0</td>\n",
       "      <td>0.0</td>\n",
       "      <td>0.0</td>\n",
       "    </tr>\n",
       "    <tr>\n",
       "      <th>11</th>\n",
       "      <td>2013</td>\n",
       "      <td>claims</td>\n",
       "      <td>0.0</td>\n",
       "      <td>0.0</td>\n",
       "      <td>0.0</td>\n",
       "    </tr>\n",
       "    <tr>\n",
       "      <th>10</th>\n",
       "      <td>2017</td>\n",
       "      <td>claims</td>\n",
       "      <td>0.0</td>\n",
       "      <td>0.0</td>\n",
       "      <td>0.0</td>\n",
       "    </tr>\n",
       "    <tr>\n",
       "      <th>9</th>\n",
       "      <td>2011</td>\n",
       "      <td>claims</td>\n",
       "      <td>0.0</td>\n",
       "      <td>0.0</td>\n",
       "      <td>0.0</td>\n",
       "    </tr>\n",
       "    <tr>\n",
       "      <th>8</th>\n",
       "      <td>2012</td>\n",
       "      <td>claims</td>\n",
       "      <td>0.0</td>\n",
       "      <td>0.0</td>\n",
       "      <td>0.0</td>\n",
       "    </tr>\n",
       "    <tr>\n",
       "      <th>7</th>\n",
       "      <td>2006</td>\n",
       "      <td>claims</td>\n",
       "      <td>0.0</td>\n",
       "      <td>0.0</td>\n",
       "      <td>0.0</td>\n",
       "    </tr>\n",
       "    <tr>\n",
       "      <th>6</th>\n",
       "      <td>2019</td>\n",
       "      <td>claims</td>\n",
       "      <td>0.0</td>\n",
       "      <td>0.0</td>\n",
       "      <td>0.0</td>\n",
       "    </tr>\n",
       "    <tr>\n",
       "      <th>5</th>\n",
       "      <td>2009</td>\n",
       "      <td>claims</td>\n",
       "      <td>0.0</td>\n",
       "      <td>0.0</td>\n",
       "      <td>0.0</td>\n",
       "    </tr>\n",
       "    <tr>\n",
       "      <th>4</th>\n",
       "      <td>2014</td>\n",
       "      <td>claims</td>\n",
       "      <td>0.0</td>\n",
       "      <td>0.0</td>\n",
       "      <td>0.0</td>\n",
       "    </tr>\n",
       "    <tr>\n",
       "      <th>3</th>\n",
       "      <td>2021</td>\n",
       "      <td>claims</td>\n",
       "      <td>0.0</td>\n",
       "      <td>0.0</td>\n",
       "      <td>0.0</td>\n",
       "    </tr>\n",
       "    <tr>\n",
       "      <th>2</th>\n",
       "      <td>2008</td>\n",
       "      <td>claims</td>\n",
       "      <td>0.0</td>\n",
       "      <td>0.0</td>\n",
       "      <td>0.0</td>\n",
       "    </tr>\n",
       "    <tr>\n",
       "      <th>17</th>\n",
       "      <td>2010</td>\n",
       "      <td>claims</td>\n",
       "      <td>0.0</td>\n",
       "      <td>0.0</td>\n",
       "      <td>0.0</td>\n",
       "    </tr>\n",
       "  </tbody>\n",
       "</table>\n",
       "</div>"
      ],
      "text/plain": [
       "    calendar_year table_src  row_count_diff_percentage  clm_count_percentage  \\\n",
       "0            2018    claims                        0.0                   0.0   \n",
       "1            2020    claims                        0.0                   0.0   \n",
       "16           2007    claims                        0.0                   0.0   \n",
       "15           2015    claims                        0.0                   0.0   \n",
       "14           2023    claims                        0.0                   0.0   \n",
       "13           2022    claims                        0.0                   0.0   \n",
       "12           2016    claims                        0.0                   0.0   \n",
       "11           2013    claims                        0.0                   0.0   \n",
       "10           2017    claims                        0.0                   0.0   \n",
       "9            2011    claims                        0.0                   0.0   \n",
       "8            2012    claims                        0.0                   0.0   \n",
       "7            2006    claims                        0.0                   0.0   \n",
       "6            2019    claims                        0.0                   0.0   \n",
       "5            2009    claims                        0.0                   0.0   \n",
       "4            2014    claims                        0.0                   0.0   \n",
       "3            2021    claims                        0.0                   0.0   \n",
       "2            2008    claims                        0.0                   0.0   \n",
       "17           2010    claims                        0.0                   0.0   \n",
       "\n",
       "    mbr_count_percentage  \n",
       "0                    0.0  \n",
       "1                    0.0  \n",
       "16                   0.0  \n",
       "15                   0.0  \n",
       "14                   0.0  \n",
       "13                   0.0  \n",
       "12                   0.0  \n",
       "11                   0.0  \n",
       "10                   0.0  \n",
       "9                    0.0  \n",
       "8                    0.0  \n",
       "7                    0.0  \n",
       "6                    0.0  \n",
       "5                    0.0  \n",
       "4                    0.0  \n",
       "3                    0.0  \n",
       "2                    0.0  \n",
       "17                   0.0  "
      ]
     },
     "execution_count": 16,
     "metadata": {},
     "output_type": "execute_result"
    }
   ],
   "source": [
    "countsDf.sort_values('row_count_diff_percentage', ascending=False)[['calendar_year', 'table_src', 'row_count_diff_percentage', 'clm_count_percentage', 'mbr_count_percentage']]"
   ]
  },
  {
   "cell_type": "markdown",
   "metadata": {},
   "source": [
    "Place of Service\n",
    "\n",
    "Creating a table to count different place of service codes. "
   ]
  },
  {
   "cell_type": "code",
   "execution_count": 17,
   "metadata": {},
   "outputs": [],
   "source": [
    "posQuery = '''\n",
    "    DROP TABLE IF EXISTS qa_reporting.dw_iqva_pos;\n",
    "    SELECT \n",
    "        year, \n",
    "        place_of_service, \n",
    "        COUNT(*)\n",
    "    INTO qa_reporting.dw_iqva_pos\n",
    "    FROM dw_staging.iqva_claim_detail\n",
    "    GROUP BY 1,2;\n",
    "'''\n",
    "\n",
    "with connection.cursor() as cursor:\n",
    "    cursor.execute(posQuery)"
   ]
  },
  {
   "cell_type": "code",
   "execution_count": 18,
   "metadata": {},
   "outputs": [
    {
     "name": "stdout",
     "output_type": "stream",
     "text": [
      "     year place_of_service      count\n",
      "0    2017               22   97427199\n",
      "1    2015               24    5564538\n",
      "2    2009               25       1348\n",
      "3    2017               25      13701\n",
      "4    2018               65    2532643\n",
      "..    ...              ...        ...\n",
      "775  2014               25      12793\n",
      "776  2018               11  150507119\n",
      "777  2010               11  309969651\n",
      "778  2015               07       6112\n",
      "779  2016               81   56393103\n",
      "\n",
      "[780 rows x 3 columns]\n"
     ]
    },
    {
     "name": "stderr",
     "output_type": "stream",
     "text": [
      "C:\\Users\\piacobelli\\AppData\\Local\\Temp\\6\\ipykernel_5068\\208129925.py:1: UserWarning: pandas only supports SQLAlchemy connectable (engine/connection) or database string URI or sqlite3 DBAPI2 connection. Other DBAPI2 objects are not tested. Please consider using SQLAlchemy.\n",
      "  posDf = pd.read_sql('SELECT * FROM qa_reporting.dw_iqva_pos;', con=connection)\n"
     ]
    }
   ],
   "source": [
    "posDf = pd.read_sql('SELECT * FROM qa_reporting.dw_iqva_pos;', con=connection)\n",
    "print(posDf)"
   ]
  },
  {
   "cell_type": "code",
   "execution_count": 19,
   "metadata": {},
   "outputs": [
    {
     "data": {
      "text/plain": [
       "array(['22', '24', '25', '65', '07', '12', '21', '99', '52', '19', '15',\n",
       "       '17', '53', 'ZZ', '33', '11', '08', '05', '06', '04', '20', '16',\n",
       "       '71', '01', '42', '61', '49', '60', '55', '02', '62', '13', '32',\n",
       "       '23', '81', '34', '26', '50', '31', '54', '57', '41', '56', '72',\n",
       "       '18', '51', '10', '03', '14'], dtype=object)"
      ]
     },
     "execution_count": 19,
     "metadata": {},
     "output_type": "execute_result"
    }
   ],
   "source": [
    "posDf['place_of_service'].unique()"
   ]
  },
  {
   "cell_type": "code",
   "execution_count": 21,
   "metadata": {},
   "outputs": [
    {
     "name": "stderr",
     "output_type": "stream",
     "text": [
      "C:\\Users\\piacobelli\\AppData\\Local\\Temp\\6\\ipykernel_5068\\3414682347.py:10: UserWarning: pandas only supports SQLAlchemy connectable (engine/connection) or database string URI or sqlite3 DBAPI2 connection. Other DBAPI2 objects are not tested. Please consider using SQLAlchemy.\n",
      "  posDf = pd.read_sql(posAntiJoinQuery, con=connection)\n"
     ]
    },
    {
     "name": "stdout",
     "output_type": "stream",
     "text": [
      "    year place_of_service     count\n",
      "0   2021               ZZ   6773067\n",
      "1   2022               ZZ   4568820\n",
      "2   2018               ZZ   7152332\n",
      "3   2006               ZZ  26549465\n",
      "4   2012               ZZ  24411860\n",
      "5   2014               ZZ  13642692\n",
      "6   2008               ZZ  35303171\n",
      "7   2015               ZZ  13822885\n",
      "8   2007               ZZ  29469569\n",
      "9   2016               ZZ  12784943\n",
      "10  2011               ZZ  25390704\n",
      "11  2020               ZZ   6275652\n",
      "12  2009               ZZ  37169096\n",
      "13  2023               ZZ    426553\n",
      "14  2019               ZZ   6020768\n",
      "15  2013               ZZ  16097126\n",
      "16  2017               ZZ   9525594\n",
      "17  2010               ZZ  19596902\n"
     ]
    }
   ],
   "source": [
    "posAntiJoinQuery = '''\n",
    "    SELECT a.* \n",
    "    FROM qa_reporting.dw_iqva_pos a\n",
    "    LEFT JOIN reference_tables.ref_place_of_service b\n",
    "    ON a.place_of_service = b.place_of_treatment_cd\n",
    "    WHERE b.place_of_treatment_cd IS NULL;\n",
    ";\n",
    "'''\n",
    "\n",
    "posDf = pd.read_sql(posAntiJoinQuery, con=connection)\n",
    "posDf.sort_values(['year', 'place_of_service'])\n",
    "print(posDf)"
   ]
  },
  {
   "cell_type": "markdown",
   "metadata": {},
   "source": [
    "Revenue Code\n",
    "\n",
    "Creating a table to count different revenue codes."
   ]
  },
  {
   "cell_type": "code",
   "execution_count": 22,
   "metadata": {},
   "outputs": [],
   "source": [
    "revQuery = '''\n",
    "    DROP TABLE IF EXISTS qa_reporting.dw_iqva_revenue_cd;\n",
    "\n",
    "    SELECT \n",
    "        year, \n",
    "        revenue_cd, \n",
    "        count(*)\n",
    "    INTO qa_reporting.dw_iqva_revenue_cd\n",
    "    FROM dw_staging.iqva_claim_detail\n",
    "    GROUP BY 1,2\n",
    ";'''\n",
    "\n",
    "with connection.cursor() as cursor:\n",
    "    cursor.execute(revQuery)"
   ]
  },
  {
   "cell_type": "code",
   "execution_count": 23,
   "metadata": {},
   "outputs": [
    {
     "name": "stderr",
     "output_type": "stream",
     "text": [
      "C:\\Users\\piacobelli\\AppData\\Local\\Temp\\6\\ipykernel_5068\\3586865327.py:7: UserWarning: pandas only supports SQLAlchemy connectable (engine/connection) or database string URI or sqlite3 DBAPI2 connection. Other DBAPI2 objects are not tested. Please consider using SQLAlchemy.\n",
      "  invalidRevDf = pd.read_sql(revAntiJoinQuery, con=connection)\n"
     ]
    },
    {
     "name": "stdout",
     "output_type": "stream",
     "text": [
      "Empty DataFrame\n",
      "Columns: [year, revenue_cd, count]\n",
      "Index: []\n"
     ]
    }
   ],
   "source": [
    "revAntiJoinQuery = '''\n",
    "    SELECT a.* \n",
    "    FROM qa_reporting.dw_iqva_revenue_cd a\n",
    "    LEFT JOIN reference_tables.ref_revenue_code b ON LPAD(a.revenue_cd, 4, '0') = b.revenue_cd\n",
    "    WHERE b.revenue_cd IS NULL AND a.revenue_cd IS NOT NULL;\n",
    "'''\n",
    "invalidRevDf = pd.read_sql(revAntiJoinQuery, con=connection)\n",
    "invalidRevDf.sort_values(['year', 'revenue_cd'])\n",
    "print(invalidRevDf)"
   ]
  },
  {
   "cell_type": "code",
   "execution_count": 24,
   "metadata": {},
   "outputs": [
    {
     "data": {
      "text/html": [
       "<div>\n",
       "<style scoped>\n",
       "    .dataframe tbody tr th:only-of-type {\n",
       "        vertical-align: middle;\n",
       "    }\n",
       "\n",
       "    .dataframe tbody tr th {\n",
       "        vertical-align: top;\n",
       "    }\n",
       "\n",
       "    .dataframe thead th {\n",
       "        text-align: right;\n",
       "    }\n",
       "</style>\n",
       "<table border=\"1\" class=\"dataframe\">\n",
       "  <thead>\n",
       "    <tr style=\"text-align: right;\">\n",
       "      <th></th>\n",
       "      <th>0</th>\n",
       "    </tr>\n",
       "  </thead>\n",
       "  <tbody>\n",
       "  </tbody>\n",
       "</table>\n",
       "</div>"
      ],
      "text/plain": [
       "Empty DataFrame\n",
       "Columns: [0]\n",
       "Index: []"
      ]
     },
     "execution_count": 24,
     "metadata": {},
     "output_type": "execute_result"
    }
   ],
   "source": [
    "pd.DataFrame(invalidRevDf['revenue_cd'].unique())"
   ]
  },
  {
   "cell_type": "code",
   "execution_count": 25,
   "metadata": {},
   "outputs": [
    {
     "name": "stdout",
     "output_type": "stream",
     "text": [
      "Empty DataFrame\n",
      "Columns: [revenue_cd, count]\n",
      "Index: []\n"
     ]
    }
   ],
   "source": [
    "sumInvalidRevsDf = invalidRevDf.groupby('year').sum()\n",
    "print(sumInvalidRevsDf)"
   ]
  },
  {
   "cell_type": "code",
   "execution_count": 26,
   "metadata": {},
   "outputs": [
    {
     "name": "stderr",
     "output_type": "stream",
     "text": [
      "C:\\Users\\piacobelli\\AppData\\Local\\Temp\\6\\ipykernel_5068\\2727154628.py:1: UserWarning: pandas only supports SQLAlchemy connectable (engine/connection) or database string URI or sqlite3 DBAPI2 connection. Other DBAPI2 objects are not tested. Please consider using SQLAlchemy.\n",
      "  revDf = pd.read_sql('SELECT year, SUM(count) FROM qa_reporting.dw_iqva_revenue_cd GROUP BY 1', con=connection)\n"
     ]
    },
    {
     "name": "stdout",
     "output_type": "stream",
     "text": [
      "            sum\n",
      "year           \n",
      "2020  262362411\n",
      "2008  752001864\n",
      "2021  295469952\n",
      "2018  329711260\n",
      "2014  615792857\n",
      "2009  759139403\n",
      "2019  333397785\n",
      "2017  465448852\n",
      "2013  575391138\n",
      "2016  603322301\n",
      "2023  104947333\n",
      "2015  582695183\n",
      "2007  662430963\n",
      "2010  651457191\n",
      "2006  547972991\n",
      "2011  651936894\n",
      "2012  615799526\n",
      "2022  296642507\n"
     ]
    }
   ],
   "source": [
    "revDf = pd.read_sql('SELECT year, SUM(count) FROM qa_reporting.dw_iqva_revenue_cd GROUP BY 1', con=connection)\n",
    "revDf['sum'] = revDf['sum'].astype(int)\n",
    "revDf = revDf.set_index('year')\n",
    "print(revDf)"
   ]
  },
  {
   "cell_type": "code",
   "execution_count": 36,
   "metadata": {},
   "outputs": [
    {
     "data": {
      "text/plain": [
       "year\n",
       "2020    0.0\n",
       "2008    0.0\n",
       "2021    0.0\n",
       "2018    0.0\n",
       "2014    0.0\n",
       "2009    0.0\n",
       "2019    0.0\n",
       "2017    0.0\n",
       "2013    0.0\n",
       "2016    0.0\n",
       "2023    0.0\n",
       "2015    0.0\n",
       "2007    0.0\n",
       "2010    0.0\n",
       "2006    0.0\n",
       "2011    0.0\n",
       "2012    0.0\n",
       "2022    0.0\n",
       "Name: sum, dtype: float64"
      ]
     },
     "execution_count": 36,
     "metadata": {},
     "output_type": "execute_result"
    }
   ],
   "source": [
    "100. * (sumInvalidRevsDf['count'] if sumInvalidRevsDf.shape[0] > 0  else 0) / revDf['sum']"
   ]
  },
  {
   "cell_type": "markdown",
   "metadata": {},
   "source": [
    "Bill Type Code\n",
    "\n",
    "Creating a table to count different bill type codes. "
   ]
  },
  {
   "cell_type": "code",
   "execution_count": 28,
   "metadata": {},
   "outputs": [],
   "source": [
    "billQuery = '''\n",
    "    DROP TABLE IF EXISTS qa_reporting.dw_iqva_bill_cd;\n",
    "\n",
    "    SELECT \n",
    "        year, \n",
    "        bill_type_inst || bill_type_class || bill_type_freq as bill_cd, \n",
    "        COUNT(*)\n",
    "    INTO qa_reporting.dw_iqva_bill_cd\n",
    "    FROM dw_staging.iqva_claim_detail\n",
    "    GROUP BY 1,2;\n",
    "'''\n",
    "\n",
    "with connection.cursor() as cursor:\n",
    "    cursor.execute(billQuery)"
   ]
  },
  {
   "cell_type": "code",
   "execution_count": 29,
   "metadata": {},
   "outputs": [
    {
     "name": "stderr",
     "output_type": "stream",
     "text": [
      "C:\\Users\\piacobelli\\AppData\\Local\\Temp\\6\\ipykernel_5068\\2562219315.py:7: UserWarning: pandas only supports SQLAlchemy connectable (engine/connection) or database string URI or sqlite3 DBAPI2 connection. Other DBAPI2 objects are not tested. Please consider using SQLAlchemy.\n",
      "  invalidBillDf = pd.read_sql(billAntiJoinQuery, con=connection)\n"
     ]
    },
    {
     "name": "stdout",
     "output_type": "stream",
     "text": [
      "Empty DataFrame\n",
      "Columns: [year, bill_cd, count]\n",
      "Index: []\n"
     ]
    }
   ],
   "source": [
    "billAntiJoinQuery = '''\n",
    "    SELECT a.* \n",
    "    FROM qa_reporting.dw_iqva_bill_cd a\n",
    "    LEFT JOIN reference_tables.ref_bill_type_cd b ON a.bill_cd = b.bill_type_cd\n",
    "    WHERE b.bill_type_cd IS NULL AND a.bill_cd IS NOT NULL;\n",
    "'''\n",
    "invalidBillDf = pd.read_sql(billAntiJoinQuery, con=connection)\n",
    "invalidBillDf.sort_values(['year', 'bill_cd'])\n",
    "print(invalidBillDf)"
   ]
  },
  {
   "cell_type": "code",
   "execution_count": 30,
   "metadata": {},
   "outputs": [
    {
     "data": {
      "text/html": [
       "<div>\n",
       "<style scoped>\n",
       "    .dataframe tbody tr th:only-of-type {\n",
       "        vertical-align: middle;\n",
       "    }\n",
       "\n",
       "    .dataframe tbody tr th {\n",
       "        vertical-align: top;\n",
       "    }\n",
       "\n",
       "    .dataframe thead th {\n",
       "        text-align: right;\n",
       "    }\n",
       "</style>\n",
       "<table border=\"1\" class=\"dataframe\">\n",
       "  <thead>\n",
       "    <tr style=\"text-align: right;\">\n",
       "      <th></th>\n",
       "      <th>0</th>\n",
       "    </tr>\n",
       "  </thead>\n",
       "  <tbody>\n",
       "  </tbody>\n",
       "</table>\n",
       "</div>"
      ],
      "text/plain": [
       "Empty DataFrame\n",
       "Columns: [0]\n",
       "Index: []"
      ]
     },
     "execution_count": 30,
     "metadata": {},
     "output_type": "execute_result"
    }
   ],
   "source": [
    "pd.DataFrame(invalidBillDf['bill_cd'].unique())"
   ]
  },
  {
   "cell_type": "code",
   "execution_count": 32,
   "metadata": {},
   "outputs": [
    {
     "name": "stdout",
     "output_type": "stream",
     "text": [
      "Empty DataFrame\n",
      "Columns: [bill_cd, count]\n",
      "Index: []\n"
     ]
    }
   ],
   "source": [
    "sumInvalidBillsDf = invalidBillDf.groupby('year').sum()\n",
    "print(sumInvalidBillsDf)"
   ]
  },
  {
   "cell_type": "code",
   "execution_count": 33,
   "metadata": {},
   "outputs": [
    {
     "name": "stderr",
     "output_type": "stream",
     "text": [
      "C:\\Users\\piacobelli\\AppData\\Local\\Temp\\6\\ipykernel_5068\\2581626132.py:1: UserWarning: pandas only supports SQLAlchemy connectable (engine/connection) or database string URI or sqlite3 DBAPI2 connection. Other DBAPI2 objects are not tested. Please consider using SQLAlchemy.\n",
      "  billDf = pd.read_sql('SELECT year, SUM(count) FROM qa_reporting.dw_iqva_bill_cd group by 1', con=connection)\n"
     ]
    },
    {
     "name": "stdout",
     "output_type": "stream",
     "text": [
      "            sum\n",
      "year           \n",
      "2018  329711260\n",
      "2020  262362411\n",
      "2008  752001864\n",
      "2021  295469952\n",
      "2014  615792857\n",
      "2009  759139403\n",
      "2019  333397785\n",
      "2006  547972991\n",
      "2011  651936894\n",
      "2012  615799526\n",
      "2022  296642507\n",
      "2017  465448852\n",
      "2013  575391138\n",
      "2016  603322301\n",
      "2023  104947333\n",
      "2015  582695183\n",
      "2007  662430963\n",
      "2010  651457191\n"
     ]
    }
   ],
   "source": [
    "billDf = pd.read_sql('SELECT year, SUM(count) FROM qa_reporting.dw_iqva_bill_cd group by 1', con=connection)\n",
    "billDf['sum'] = billDf['sum'].astype(int)\n",
    "billDf = billDf.set_index('year')\n",
    "print(billDf)"
   ]
  },
  {
   "cell_type": "code",
   "execution_count": 34,
   "metadata": {},
   "outputs": [
    {
     "data": {
      "text/plain": [
       "year\n",
       "2018    0.0\n",
       "2020    0.0\n",
       "2008    0.0\n",
       "2021    0.0\n",
       "2014    0.0\n",
       "2009    0.0\n",
       "2019    0.0\n",
       "2006    0.0\n",
       "2011    0.0\n",
       "2012    0.0\n",
       "2022    0.0\n",
       "2017    0.0\n",
       "2013    0.0\n",
       "2016    0.0\n",
       "2023    0.0\n",
       "2015    0.0\n",
       "2007    0.0\n",
       "2010    0.0\n",
       "Name: sum, dtype: float64"
      ]
     },
     "execution_count": 34,
     "metadata": {},
     "output_type": "execute_result"
    }
   ],
   "source": [
    "100. * (sumInvalidBillsDf['count'] if sumInvalidBillsDf.shape[0] > 0  else 0) / billDf['sum']"
   ]
  },
  {
   "cell_type": "markdown",
   "metadata": {},
   "source": [
    "CPT HCPCS Codes  \n",
    "\n",
    "Creating a table to count different CPT HCPCS codes."
   ]
  },
  {
   "cell_type": "code",
   "execution_count": 7,
   "metadata": {},
   "outputs": [],
   "source": [
    "procQuery = '''\n",
    "    DROP TABLE IF EXISTS qa_reporting.dw_iqva_cpt_proc_counts;\n",
    "   \n",
    "    SELECT \n",
    "        year, \n",
    "        cpt_hcpcs_cd, \n",
    "        COUNT(*) AS proc_count\n",
    "    INTO qa_reporting.dw_iqva_cpt_proc_counts\n",
    "    FROM dw_staging.iqva_claim_detail\n",
    "    GROUP BY 1,2;\n",
    "'''\n",
    "\n",
    "with connection.cursor() as cursor:\n",
    "    cursor.execute(procQuery)"
   ]
  },
  {
   "cell_type": "code",
   "execution_count": 8,
   "metadata": {},
   "outputs": [
    {
     "name": "stderr",
     "output_type": "stream",
     "text": [
      "C:\\Users\\piacobelli\\AppData\\Local\\Temp\\6\\ipykernel_12816\\2574447171.py:1: UserWarning: pandas only supports SQLAlchemy connectable (engine/connection) or database string URI or sqlite3 DBAPI2 connection. Other DBAPI2 objects are not tested. Please consider using SQLAlchemy.\n",
      "  procDf = pd.read_sql('SELECT * FROM qa_reporting.dw_iqva_cpt_proc_counts;', con=connection)\n"
     ]
    },
    {
     "name": "stdout",
     "output_type": "stream",
     "text": [
      "        year cpt_hcpcs_cd  proc_count\n",
      "0       2011        J1364         324\n",
      "1       2015        L3764          70\n",
      "2       2018        27306          98\n",
      "3       2022        96375      595290\n",
      "4       2020        44626         502\n",
      "...      ...          ...         ...\n",
      "336296  2018        D1550          64\n",
      "336297  2021        28312         152\n",
      "336298  2014        V5267        1355\n",
      "336299  2011        74220       59795\n",
      "336300  2018        2AHLS           2\n",
      "\n",
      "[336301 rows x 3 columns]\n"
     ]
    }
   ],
   "source": [
    "procDf = pd.read_sql('SELECT * FROM qa_reporting.dw_iqva_cpt_proc_counts;', con=connection)\n",
    "print(procDf)"
   ]
  },
  {
   "cell_type": "code",
   "execution_count": 13,
   "metadata": {},
   "outputs": [
    {
     "name": "stderr",
     "output_type": "stream",
     "text": [
      "C:\\Users\\piacobelli\\AppData\\Local\\Temp\\6\\ipykernel_12816\\2528136225.py:9: UserWarning: pandas only supports SQLAlchemy connectable (engine/connection) or database string URI or sqlite3 DBAPI2 connection. Other DBAPI2 objects are not tested. Please consider using SQLAlchemy.\n",
      "  invalidProcDf = pd.read_sql(procAntiJoinQuery, con=connection)\n"
     ]
    },
    {
     "name": "stdout",
     "output_type": "stream",
     "text": [
      "       year cpt_hcpcs_cd  proc_count\n",
      "0      2015        35025           2\n",
      "1      2021        ZDB52          12\n",
      "2      2009        A0452           1\n",
      "3      2011        ZDB84           4\n",
      "4      2014        1AFPS          29\n",
      "...     ...          ...         ...\n",
      "57960  2007        A1270           1\n",
      "57961  2007        HOSPT           1\n",
      "57962  2012        3BGL1           2\n",
      "57963  2010        U0914           3\n",
      "57964  2006          063           1\n",
      "\n",
      "[57965 rows x 3 columns]\n"
     ]
    }
   ],
   "source": [
    "procAntiJoinQuery = '''\n",
    "    SELECT a.*\n",
    "    FROM qa_reporting.dw_iqva_cpt_proc_counts a\n",
    "    LEFT JOIN (SELECT DISTINCT procedure_cd FROM iqvia.pr_lookup) b ON a.cpt_hcpcs_cd = b.procedure_cd\n",
    "    WHERE b.procedure_cd IS NULL AND a.cpt_hcpcs_cd IS NOT NULL\n",
    ";\n",
    "'''\n",
    "\n",
    "invalidProcDf = pd.read_sql(procAntiJoinQuery, con=connection)\n",
    "print(invalidProcDf)\n"
   ]
  },
  {
   "cell_type": "code",
   "execution_count": 14,
   "metadata": {},
   "outputs": [
    {
     "data": {
      "text/plain": [
       "year\n",
       "2006    3179714\n",
       "2007    2880799\n",
       "2008    2409859\n",
       "2009    2285684\n",
       "2010    1720424\n",
       "2011    1876888\n",
       "2012    1511091\n",
       "2013    1256002\n",
       "2014    3028539\n",
       "2015    5050726\n",
       "2016    5444778\n",
       "2017    5474327\n",
       "2018    4915982\n",
       "2019    4300412\n",
       "2020    1054867\n",
       "2021     138666\n",
       "2022     138645\n",
       "2023      34432\n",
       "Name: proc_count, dtype: int64"
      ]
     },
     "execution_count": 14,
     "metadata": {},
     "output_type": "execute_result"
    }
   ],
   "source": [
    "invalidProcDf.groupby('year')['proc_count'].sum()"
   ]
  },
  {
   "cell_type": "code",
   "execution_count": 15,
   "metadata": {},
   "outputs": [
    {
     "data": {
      "text/html": [
       "<div>\n",
       "<style scoped>\n",
       "    .dataframe tbody tr th:only-of-type {\n",
       "        vertical-align: middle;\n",
       "    }\n",
       "\n",
       "    .dataframe tbody tr th {\n",
       "        vertical-align: top;\n",
       "    }\n",
       "\n",
       "    .dataframe thead th {\n",
       "        text-align: right;\n",
       "    }\n",
       "</style>\n",
       "<table border=\"1\" class=\"dataframe\">\n",
       "  <thead>\n",
       "    <tr style=\"text-align: right;\">\n",
       "      <th></th>\n",
       "      <th>overall_proc_count</th>\n",
       "      <th>invalid_proc_count</th>\n",
       "      <th>valid_proc_count</th>\n",
       "      <th>invalid_to_valid_percent</th>\n",
       "    </tr>\n",
       "    <tr>\n",
       "      <th>year</th>\n",
       "      <th></th>\n",
       "      <th></th>\n",
       "      <th></th>\n",
       "      <th></th>\n",
       "    </tr>\n",
       "  </thead>\n",
       "  <tbody>\n",
       "    <tr>\n",
       "      <th>2006</th>\n",
       "      <td>547972991</td>\n",
       "      <td>3179714</td>\n",
       "      <td>544793277</td>\n",
       "      <td>0.583655</td>\n",
       "    </tr>\n",
       "    <tr>\n",
       "      <th>2007</th>\n",
       "      <td>662430963</td>\n",
       "      <td>2880799</td>\n",
       "      <td>659550164</td>\n",
       "      <td>0.436782</td>\n",
       "    </tr>\n",
       "    <tr>\n",
       "      <th>2008</th>\n",
       "      <td>752001864</td>\n",
       "      <td>2409859</td>\n",
       "      <td>749592005</td>\n",
       "      <td>0.321489</td>\n",
       "    </tr>\n",
       "    <tr>\n",
       "      <th>2009</th>\n",
       "      <td>759139403</td>\n",
       "      <td>2285684</td>\n",
       "      <td>756853719</td>\n",
       "      <td>0.301998</td>\n",
       "    </tr>\n",
       "    <tr>\n",
       "      <th>2010</th>\n",
       "      <td>651457191</td>\n",
       "      <td>1720424</td>\n",
       "      <td>649736767</td>\n",
       "      <td>0.264788</td>\n",
       "    </tr>\n",
       "    <tr>\n",
       "      <th>2011</th>\n",
       "      <td>651936894</td>\n",
       "      <td>1876888</td>\n",
       "      <td>650060006</td>\n",
       "      <td>0.288725</td>\n",
       "    </tr>\n",
       "    <tr>\n",
       "      <th>2012</th>\n",
       "      <td>615799526</td>\n",
       "      <td>1511091</td>\n",
       "      <td>614288435</td>\n",
       "      <td>0.245990</td>\n",
       "    </tr>\n",
       "    <tr>\n",
       "      <th>2013</th>\n",
       "      <td>575391138</td>\n",
       "      <td>1256002</td>\n",
       "      <td>574135136</td>\n",
       "      <td>0.218764</td>\n",
       "    </tr>\n",
       "    <tr>\n",
       "      <th>2014</th>\n",
       "      <td>615792857</td>\n",
       "      <td>3028539</td>\n",
       "      <td>612764318</td>\n",
       "      <td>0.494242</td>\n",
       "    </tr>\n",
       "    <tr>\n",
       "      <th>2015</th>\n",
       "      <td>582695183</td>\n",
       "      <td>5050726</td>\n",
       "      <td>577644457</td>\n",
       "      <td>0.874366</td>\n",
       "    </tr>\n",
       "    <tr>\n",
       "      <th>2016</th>\n",
       "      <td>603322301</td>\n",
       "      <td>5444778</td>\n",
       "      <td>597877523</td>\n",
       "      <td>0.910685</td>\n",
       "    </tr>\n",
       "    <tr>\n",
       "      <th>2017</th>\n",
       "      <td>465448852</td>\n",
       "      <td>5474327</td>\n",
       "      <td>459974525</td>\n",
       "      <td>1.190137</td>\n",
       "    </tr>\n",
       "    <tr>\n",
       "      <th>2018</th>\n",
       "      <td>329711260</td>\n",
       "      <td>4915982</td>\n",
       "      <td>324795278</td>\n",
       "      <td>1.513563</td>\n",
       "    </tr>\n",
       "    <tr>\n",
       "      <th>2019</th>\n",
       "      <td>333397785</td>\n",
       "      <td>4300412</td>\n",
       "      <td>329097373</td>\n",
       "      <td>1.306729</td>\n",
       "    </tr>\n",
       "    <tr>\n",
       "      <th>2020</th>\n",
       "      <td>262362411</td>\n",
       "      <td>1054867</td>\n",
       "      <td>261307544</td>\n",
       "      <td>0.403688</td>\n",
       "    </tr>\n",
       "    <tr>\n",
       "      <th>2021</th>\n",
       "      <td>295469952</td>\n",
       "      <td>138666</td>\n",
       "      <td>295331286</td>\n",
       "      <td>0.046953</td>\n",
       "    </tr>\n",
       "    <tr>\n",
       "      <th>2022</th>\n",
       "      <td>296642507</td>\n",
       "      <td>138645</td>\n",
       "      <td>296503862</td>\n",
       "      <td>0.046760</td>\n",
       "    </tr>\n",
       "    <tr>\n",
       "      <th>2023</th>\n",
       "      <td>104947333</td>\n",
       "      <td>34432</td>\n",
       "      <td>104912901</td>\n",
       "      <td>0.032820</td>\n",
       "    </tr>\n",
       "  </tbody>\n",
       "</table>\n",
       "</div>"
      ],
      "text/plain": [
       "      overall_proc_count  invalid_proc_count  valid_proc_count  \\\n",
       "year                                                             \n",
       "2006           547972991             3179714         544793277   \n",
       "2007           662430963             2880799         659550164   \n",
       "2008           752001864             2409859         749592005   \n",
       "2009           759139403             2285684         756853719   \n",
       "2010           651457191             1720424         649736767   \n",
       "2011           651936894             1876888         650060006   \n",
       "2012           615799526             1511091         614288435   \n",
       "2013           575391138             1256002         574135136   \n",
       "2014           615792857             3028539         612764318   \n",
       "2015           582695183             5050726         577644457   \n",
       "2016           603322301             5444778         597877523   \n",
       "2017           465448852             5474327         459974525   \n",
       "2018           329711260             4915982         324795278   \n",
       "2019           333397785             4300412         329097373   \n",
       "2020           262362411             1054867         261307544   \n",
       "2021           295469952              138666         295331286   \n",
       "2022           296642507              138645         296503862   \n",
       "2023           104947333               34432         104912901   \n",
       "\n",
       "      invalid_to_valid_percent  \n",
       "year                            \n",
       "2006                  0.583655  \n",
       "2007                  0.436782  \n",
       "2008                  0.321489  \n",
       "2009                  0.301998  \n",
       "2010                  0.264788  \n",
       "2011                  0.288725  \n",
       "2012                  0.245990  \n",
       "2013                  0.218764  \n",
       "2014                  0.494242  \n",
       "2015                  0.874366  \n",
       "2016                  0.910685  \n",
       "2017                  1.190137  \n",
       "2018                  1.513563  \n",
       "2019                  1.306729  \n",
       "2020                  0.403688  \n",
       "2021                  0.046953  \n",
       "2022                  0.046760  \n",
       "2023                  0.032820  "
      ]
     },
     "execution_count": 15,
     "metadata": {},
     "output_type": "execute_result"
    }
   ],
   "source": [
    "procCompDf = pd.DataFrame({'overall_proc_count': procDf.groupby('year')['proc_count'].sum(),\n",
    "                            'invalid_proc_count': invalidProcDf.groupby('year')['proc_count'].sum(),\n",
    "                            'valid_proc_count': procDf.groupby('year')['proc_count'].sum() - invalidProcDf.groupby('year')['proc_count'].sum()})\n",
    "procCompDf.loc[procCompDf['valid_proc_count'].isna(),'valid_proc_count'] = procCompDf.loc[procCompDf['valid_proc_count'].isna(),'overall_proc_count']\n",
    "procCompDf['valid_proc_count'] =  procCompDf['valid_proc_count'].astype(int)\n",
    "procCompDf['invalid_to_valid_percent'] = 100. * procCompDf['invalid_proc_count'] / procCompDf['valid_proc_count']\n",
    "procCompDf "
   ]
  },
  {
   "cell_type": "markdown",
   "metadata": {},
   "source": [
    "Its hard to check the accuracy of cpt-hcpcs codes right now because the reference tables don't fully correspond with the Iqvia data. "
   ]
  },
  {
   "cell_type": "markdown",
   "metadata": {},
   "source": [
    "Discharge Status\n",
    "\n",
    "Getting discharge status."
   ]
  },
  {
   "cell_type": "code",
   "execution_count": 52,
   "metadata": {},
   "outputs": [],
   "source": [
    "discQuery = '''\n",
    "    DROP TABLE IF EXISTS qa_reporting.dw_iqva_discharge_counts;\n",
    "    SELECT \n",
    "        year, \n",
    "        discharge_status, \n",
    "        COUNT(*) as count\n",
    "    INTO qa_reporting.dw_iqva_discharge_counts\n",
    "    FROM dw_staging.iqva_claim_detail\n",
    "    GROUP BY 1,2;\n",
    "'''\n",
    "\n",
    "with connection.cursor() as cursor:\n",
    "    cursor.execute(discQuery)"
   ]
  },
  {
   "cell_type": "code",
   "execution_count": 53,
   "metadata": {},
   "outputs": [
    {
     "name": "stderr",
     "output_type": "stream",
     "text": [
      "C:\\Users\\piacobelli\\AppData\\Local\\Temp\\6\\ipykernel_5068\\970270768.py:1: UserWarning: pandas only supports SQLAlchemy connectable (engine/connection) or database string URI or sqlite3 DBAPI2 connection. Other DBAPI2 objects are not tested. Please consider using SQLAlchemy.\n",
      "  discDf = pd.read_sql('SELECT * FROM qa_reporting.dw_iqva_discharge_counts;', con=connection)\n"
     ]
    },
    {
     "name": "stdout",
     "output_type": "stream",
     "text": [
      "      year discharge_status      count\n",
      "0     2012             None  516326720\n",
      "1     2016               50     165785\n",
      "2     2011               35          1\n",
      "3     2023               81       2413\n",
      "4     2021               51     168133\n",
      "...    ...              ...        ...\n",
      "1089  2015               81      13144\n",
      "1090  2006               34          1\n",
      "1091  2017               02    1124880\n",
      "1092  2019               21       5556\n",
      "1093  2008               22        312\n",
      "\n",
      "[1094 rows x 3 columns]\n"
     ]
    }
   ],
   "source": [
    "discDf = pd.read_sql('SELECT * FROM qa_reporting.dw_iqva_discharge_counts;', con=connection)\n",
    "print(discDf)"
   ]
  },
  {
   "cell_type": "code",
   "execution_count": 60,
   "metadata": {},
   "outputs": [
    {
     "data": {
      "text/plain": [
       "array(['50', '35', '81', '51', '90', '85', '03', '72', '12', '18', '43',\n",
       "       '06', '95', '93', '92', '21', '07', '71', '70', '86', '97', '61',\n",
       "       '10', '65', '28', '04', '99', '52', '59', '09', '64', '32', '76',\n",
       "       '60', '83', '38', '19', '08', '55', '94', '82', '1 ', '66', '98',\n",
       "       '13', '11', '84', '89', '8 ', '30', '91', '57', '69', '16', '01',\n",
       "       '80', '00', '22', '63', '87', '26', '24', '3 ', '47', '62', '74',\n",
       "       '15', '05', '36', '34', '88', '31', '73', '56', '17', '48', '0 ',\n",
       "       '33', '54', '45', '02', '96', '23', '39', '2 ', '7 ', '78', '14',\n",
       "       '44', '25', '6 ', '9 ', '27', '37', '46', '77', '79', '53', '29',\n",
       "       '68', '5 ', '67', '49'], dtype=object)"
      ]
     },
     "execution_count": 60,
     "metadata": {},
     "output_type": "execute_result"
    }
   ],
   "source": [
    "discDf['discharge_status'].unique()"
   ]
  },
  {
   "cell_type": "code",
   "execution_count": 54,
   "metadata": {},
   "outputs": [
    {
     "data": {
      "text/html": [
       "<div>\n",
       "<style scoped>\n",
       "    .dataframe tbody tr th:only-of-type {\n",
       "        vertical-align: middle;\n",
       "    }\n",
       "\n",
       "    .dataframe tbody tr th {\n",
       "        vertical-align: top;\n",
       "    }\n",
       "\n",
       "    .dataframe thead th {\n",
       "        text-align: right;\n",
       "    }\n",
       "</style>\n",
       "<table border=\"1\" class=\"dataframe\">\n",
       "  <thead>\n",
       "    <tr style=\"text-align: right;\">\n",
       "      <th></th>\n",
       "      <th>year</th>\n",
       "      <th>discharge_status</th>\n",
       "      <th>count</th>\n",
       "    </tr>\n",
       "  </thead>\n",
       "  <tbody>\n",
       "    <tr>\n",
       "      <th>0</th>\n",
       "      <td>2012</td>\n",
       "      <td>None</td>\n",
       "      <td>516326720</td>\n",
       "    </tr>\n",
       "    <tr>\n",
       "      <th>25</th>\n",
       "      <td>2010</td>\n",
       "      <td>None</td>\n",
       "      <td>563601109</td>\n",
       "    </tr>\n",
       "    <tr>\n",
       "      <th>95</th>\n",
       "      <td>2023</td>\n",
       "      <td>None</td>\n",
       "      <td>74051430</td>\n",
       "    </tr>\n",
       "    <tr>\n",
       "      <th>98</th>\n",
       "      <td>2008</td>\n",
       "      <td>None</td>\n",
       "      <td>668603464</td>\n",
       "    </tr>\n",
       "    <tr>\n",
       "      <th>103</th>\n",
       "      <td>2022</td>\n",
       "      <td>None</td>\n",
       "      <td>210410258</td>\n",
       "    </tr>\n",
       "    <tr>\n",
       "      <th>159</th>\n",
       "      <td>2015</td>\n",
       "      <td>None</td>\n",
       "      <td>471563640</td>\n",
       "    </tr>\n",
       "    <tr>\n",
       "      <th>249</th>\n",
       "      <td>2013</td>\n",
       "      <td>None</td>\n",
       "      <td>472030995</td>\n",
       "    </tr>\n",
       "    <tr>\n",
       "      <th>265</th>\n",
       "      <td>2009</td>\n",
       "      <td>None</td>\n",
       "      <td>675085808</td>\n",
       "    </tr>\n",
       "    <tr>\n",
       "      <th>333</th>\n",
       "      <td>2017</td>\n",
       "      <td>None</td>\n",
       "      <td>370095588</td>\n",
       "    </tr>\n",
       "    <tr>\n",
       "      <th>400</th>\n",
       "      <td>2011</td>\n",
       "      <td>None</td>\n",
       "      <td>560590013</td>\n",
       "    </tr>\n",
       "    <tr>\n",
       "      <th>474</th>\n",
       "      <td>2020</td>\n",
       "      <td>None</td>\n",
       "      <td>192007379</td>\n",
       "    </tr>\n",
       "    <tr>\n",
       "      <th>499</th>\n",
       "      <td>2016</td>\n",
       "      <td>None</td>\n",
       "      <td>483219528</td>\n",
       "    </tr>\n",
       "    <tr>\n",
       "      <th>504</th>\n",
       "      <td>2018</td>\n",
       "      <td>None</td>\n",
       "      <td>264016219</td>\n",
       "    </tr>\n",
       "    <tr>\n",
       "      <th>659</th>\n",
       "      <td>2014</td>\n",
       "      <td>None</td>\n",
       "      <td>495217344</td>\n",
       "    </tr>\n",
       "    <tr>\n",
       "      <th>750</th>\n",
       "      <td>2021</td>\n",
       "      <td>None</td>\n",
       "      <td>211474911</td>\n",
       "    </tr>\n",
       "    <tr>\n",
       "      <th>880</th>\n",
       "      <td>2007</td>\n",
       "      <td>None</td>\n",
       "      <td>608982759</td>\n",
       "    </tr>\n",
       "    <tr>\n",
       "      <th>1011</th>\n",
       "      <td>2019</td>\n",
       "      <td>None</td>\n",
       "      <td>259155886</td>\n",
       "    </tr>\n",
       "    <tr>\n",
       "      <th>1075</th>\n",
       "      <td>2006</td>\n",
       "      <td>None</td>\n",
       "      <td>501912934</td>\n",
       "    </tr>\n",
       "  </tbody>\n",
       "</table>\n",
       "</div>"
      ],
      "text/plain": [
       "      year discharge_status      count\n",
       "0     2012             None  516326720\n",
       "25    2010             None  563601109\n",
       "95    2023             None   74051430\n",
       "98    2008             None  668603464\n",
       "103   2022             None  210410258\n",
       "159   2015             None  471563640\n",
       "249   2013             None  472030995\n",
       "265   2009             None  675085808\n",
       "333   2017             None  370095588\n",
       "400   2011             None  560590013\n",
       "474   2020             None  192007379\n",
       "499   2016             None  483219528\n",
       "504   2018             None  264016219\n",
       "659   2014             None  495217344\n",
       "750   2021             None  211474911\n",
       "880   2007             None  608982759\n",
       "1011  2019             None  259155886\n",
       "1075  2006             None  501912934"
      ]
     },
     "execution_count": 54,
     "metadata": {},
     "output_type": "execute_result"
    }
   ],
   "source": [
    "discDf[discDf['discharge_status'].isna()]"
   ]
  },
  {
   "cell_type": "code",
   "execution_count": 55,
   "metadata": {},
   "outputs": [
    {
     "name": "stdout",
     "output_type": "stream",
     "text": [
      "      year discharge_status    count\n",
      "1     2016               50   165785\n",
      "2     2011               35        1\n",
      "3     2023               81     2413\n",
      "4     2021               51   168133\n",
      "5     2019               90     2526\n",
      "...    ...              ...      ...\n",
      "1089  2015               81    13144\n",
      "1090  2006               34        1\n",
      "1091  2017               02  1124880\n",
      "1092  2019               21     5556\n",
      "1093  2008               22      312\n",
      "\n",
      "[1076 rows x 3 columns]\n"
     ]
    }
   ],
   "source": [
    "discDf = discDf[~discDf['discharge_status'].isna()]\n",
    "print(discDf)"
   ]
  },
  {
   "cell_type": "code",
   "execution_count": 61,
   "metadata": {},
   "outputs": [
    {
     "name": "stderr",
     "output_type": "stream",
     "text": [
      "C:\\Users\\piacobelli\\AppData\\Local\\Temp\\6\\ipykernel_5068\\3822852335.py:11: UserWarning: pandas only supports SQLAlchemy connectable (engine/connection) or database string URI or sqlite3 DBAPI2 connection. Other DBAPI2 objects are not tested. Please consider using SQLAlchemy.\n",
      "  invalidDiscDf = pd.read_sql(discAntiJoinQuery, con=connection)\n"
     ]
    },
    {
     "name": "stdout",
     "output_type": "stream",
     "text": [
      "     year discharge_status  count\n",
      "0    2014               18    303\n",
      "1    2016               74    157\n",
      "2    2014               36      5\n",
      "3    2013               39     44\n",
      "4    2010               23    321\n",
      "..    ...              ...    ...\n",
      "487  2019               16     21\n",
      "488  2014               80     20\n",
      "489  2011               19    193\n",
      "490  2006               12    126\n",
      "491  2022               99     89\n",
      "\n",
      "[492 rows x 3 columns]\n"
     ]
    }
   ],
   "source": [
    "discAntiJoinQuery = '''\n",
    "    select a.*\n",
    "from qa_reporting.dw_iqva_discharge_counts a\n",
    "left join reference_tables.ref_discharge_status b\n",
    "on a.discharge_status = b.discharge_status\n",
    "where b.discharge_status is null\n",
    "and a.discharge_status is not null\n",
    ";\n",
    "'''\n",
    "\n",
    "invalidDiscDf = pd.read_sql(discAntiJoinQuery, con=connection)\n",
    "print(invalidDiscDf)"
   ]
  },
  {
   "cell_type": "code",
   "execution_count": 62,
   "metadata": {},
   "outputs": [
    {
     "name": "stdout",
     "output_type": "stream",
     "text": [
      "      overall_count  invalid_count  valid_count  invalid_to_valid_percent\n",
      "year                                                                     \n",
      "2006       46060057          27767     46032290                  0.060321\n",
      "2007       53448204          75530     53372674                  0.141514\n",
      "2008       83398400          96065     83302335                  0.115321\n",
      "2009       84053595         100597     83952998                  0.119825\n",
      "2010       87856082          94409     87761673                  0.107574\n",
      "2011       91346881         108416     91238465                  0.118827\n",
      "2012       99472806          51577     99421229                  0.051877\n",
      "2013      103360143          27334    103332809                  0.026452\n",
      "2014      120575513          10418    120565095                  0.008641\n",
      "2015      111131543          10936    111120607                  0.009842\n",
      "2016      120102773           8638    120094135                  0.007193\n",
      "2017       95353264           2079     95351185                  0.002180\n",
      "2018       65695041            719     65694322                  0.001094\n",
      "2019       74241899            362     74241537                  0.000488\n",
      "2020       70355032         548267     69806765                  0.785407\n",
      "2021       83995041         636877     83358164                  0.764025\n",
      "2022       86232249         664966     85567283                  0.777126\n",
      "2023       30895903         214666     30681237                  0.699665\n"
     ]
    }
   ],
   "source": [
    "discCompDf = pd.DataFrame(\n",
    "    {\n",
    "        'overall_count': discDf.groupby('year')['count'].sum(),\n",
    "        'invalid_count': invalidDiscDf.groupby('year')['count'].sum(),\n",
    "        'valid_count': discDf.groupby('year')['count'].sum() - invalidDiscDf.groupby('year')['count'].sum()\n",
    "    }\n",
    ")\n",
    "discCompDf.loc[discCompDf['valid_count'].isna(),'valid_count'] = discCompDf.loc[discCompDf['valid_count'].isna(),'overall_count']\n",
    "discCompDf['valid_count'] =  discCompDf['valid_count'].astype(int)\n",
    "discCompDf['invalid_to_valid_percent'] = 100. * discCompDf['invalid_count'] / discCompDf['valid_count']\n",
    "print(discCompDf) "
   ]
  },
  {
   "cell_type": "markdown",
   "metadata": {},
   "source": [
    "DRG Code\n",
    "\n",
    "Creating a table to count different DRG codes. "
   ]
  },
  {
   "cell_type": "code",
   "execution_count": 59,
   "metadata": {},
   "outputs": [],
   "source": [
    "query = '''\n",
    "    DROP TABLE IF EXISTS qa_reporting.dw_iqva_drg_counts;\n",
    "\n",
    "    SELECT \n",
    "        year, \n",
    "        drg_cd, \n",
    "        COUNT(*) as drg_count\n",
    "    INTO qa_reporting.dw_iqva_drg_counts\n",
    "    FROM dw_staging.iqva_claim_detail\n",
    "    GROUP BY 1,2;\n",
    "'''\n",
    "\n",
    "with connection.cursor() as cursor:\n",
    "    cursor.execute(query)"
   ]
  },
  {
   "cell_type": "code",
   "execution_count": 63,
   "metadata": {},
   "outputs": [
    {
     "name": "stderr",
     "output_type": "stream",
     "text": [
      "C:\\Users\\piacobelli\\AppData\\Local\\Temp\\6\\ipykernel_5068\\845894363.py:1: UserWarning: pandas only supports SQLAlchemy connectable (engine/connection) or database string URI or sqlite3 DBAPI2 connection. Other DBAPI2 objects are not tested. Please consider using SQLAlchemy.\n",
      "  drgDf = pd.read_sql('SELECT * FROM qa_reporting.dw_iqva_drg_counts;', con=connection)\n"
     ]
    },
    {
     "name": "stdout",
     "output_type": "stream",
     "text": [
      "    year drg_cd  drg_count\n",
      "0   2018   None  329711260\n",
      "1   2017   None  465448852\n",
      "2   2023   None  104947333\n",
      "3   2016   None  603322301\n",
      "4   2009   None  759139403\n",
      "5   2014   None  615792857\n",
      "6   2015   None  582695183\n",
      "7   2013   None  575391138\n",
      "8   2007   None  662430963\n",
      "9   2008   None  752001864\n",
      "10  2011   None  651936894\n",
      "11  2019   None  333397785\n",
      "12  2006   None  547972991\n",
      "13  2010   None  651457191\n",
      "14  2020   None  262362411\n",
      "15  2022   None  296642507\n",
      "16  2012   None  615799526\n",
      "17  2021   None  295469952\n"
     ]
    }
   ],
   "source": [
    "drgDf = pd.read_sql('SELECT * FROM qa_reporting.dw_iqva_drg_counts;', con=connection)\n",
    "print(drgDf)"
   ]
  },
  {
   "cell_type": "code",
   "execution_count": 64,
   "metadata": {},
   "outputs": [
    {
     "data": {
      "text/plain": [
       "array([None], dtype=object)"
      ]
     },
     "execution_count": 64,
     "metadata": {},
     "output_type": "execute_result"
    }
   ],
   "source": [
    "drgDf['drg_cd'].unique()"
   ]
  },
  {
   "cell_type": "code",
   "execution_count": 65,
   "metadata": {},
   "outputs": [
    {
     "data": {
      "text/html": [
       "<div>\n",
       "<style scoped>\n",
       "    .dataframe tbody tr th:only-of-type {\n",
       "        vertical-align: middle;\n",
       "    }\n",
       "\n",
       "    .dataframe tbody tr th {\n",
       "        vertical-align: top;\n",
       "    }\n",
       "\n",
       "    .dataframe thead th {\n",
       "        text-align: right;\n",
       "    }\n",
       "</style>\n",
       "<table border=\"1\" class=\"dataframe\">\n",
       "  <thead>\n",
       "    <tr style=\"text-align: right;\">\n",
       "      <th></th>\n",
       "      <th>year</th>\n",
       "      <th>drg_cd</th>\n",
       "      <th>drg_count</th>\n",
       "    </tr>\n",
       "  </thead>\n",
       "  <tbody>\n",
       "    <tr>\n",
       "      <th>0</th>\n",
       "      <td>2018</td>\n",
       "      <td>None</td>\n",
       "      <td>329711260</td>\n",
       "    </tr>\n",
       "    <tr>\n",
       "      <th>1</th>\n",
       "      <td>2017</td>\n",
       "      <td>None</td>\n",
       "      <td>465448852</td>\n",
       "    </tr>\n",
       "    <tr>\n",
       "      <th>2</th>\n",
       "      <td>2023</td>\n",
       "      <td>None</td>\n",
       "      <td>104947333</td>\n",
       "    </tr>\n",
       "    <tr>\n",
       "      <th>3</th>\n",
       "      <td>2016</td>\n",
       "      <td>None</td>\n",
       "      <td>603322301</td>\n",
       "    </tr>\n",
       "    <tr>\n",
       "      <th>4</th>\n",
       "      <td>2009</td>\n",
       "      <td>None</td>\n",
       "      <td>759139403</td>\n",
       "    </tr>\n",
       "    <tr>\n",
       "      <th>5</th>\n",
       "      <td>2014</td>\n",
       "      <td>None</td>\n",
       "      <td>615792857</td>\n",
       "    </tr>\n",
       "    <tr>\n",
       "      <th>6</th>\n",
       "      <td>2015</td>\n",
       "      <td>None</td>\n",
       "      <td>582695183</td>\n",
       "    </tr>\n",
       "    <tr>\n",
       "      <th>7</th>\n",
       "      <td>2013</td>\n",
       "      <td>None</td>\n",
       "      <td>575391138</td>\n",
       "    </tr>\n",
       "    <tr>\n",
       "      <th>8</th>\n",
       "      <td>2007</td>\n",
       "      <td>None</td>\n",
       "      <td>662430963</td>\n",
       "    </tr>\n",
       "    <tr>\n",
       "      <th>9</th>\n",
       "      <td>2008</td>\n",
       "      <td>None</td>\n",
       "      <td>752001864</td>\n",
       "    </tr>\n",
       "    <tr>\n",
       "      <th>10</th>\n",
       "      <td>2011</td>\n",
       "      <td>None</td>\n",
       "      <td>651936894</td>\n",
       "    </tr>\n",
       "    <tr>\n",
       "      <th>11</th>\n",
       "      <td>2019</td>\n",
       "      <td>None</td>\n",
       "      <td>333397785</td>\n",
       "    </tr>\n",
       "    <tr>\n",
       "      <th>12</th>\n",
       "      <td>2006</td>\n",
       "      <td>None</td>\n",
       "      <td>547972991</td>\n",
       "    </tr>\n",
       "    <tr>\n",
       "      <th>13</th>\n",
       "      <td>2010</td>\n",
       "      <td>None</td>\n",
       "      <td>651457191</td>\n",
       "    </tr>\n",
       "    <tr>\n",
       "      <th>14</th>\n",
       "      <td>2020</td>\n",
       "      <td>None</td>\n",
       "      <td>262362411</td>\n",
       "    </tr>\n",
       "    <tr>\n",
       "      <th>15</th>\n",
       "      <td>2022</td>\n",
       "      <td>None</td>\n",
       "      <td>296642507</td>\n",
       "    </tr>\n",
       "    <tr>\n",
       "      <th>16</th>\n",
       "      <td>2012</td>\n",
       "      <td>None</td>\n",
       "      <td>615799526</td>\n",
       "    </tr>\n",
       "    <tr>\n",
       "      <th>17</th>\n",
       "      <td>2021</td>\n",
       "      <td>None</td>\n",
       "      <td>295469952</td>\n",
       "    </tr>\n",
       "  </tbody>\n",
       "</table>\n",
       "</div>"
      ],
      "text/plain": [
       "    year drg_cd  drg_count\n",
       "0   2018   None  329711260\n",
       "1   2017   None  465448852\n",
       "2   2023   None  104947333\n",
       "3   2016   None  603322301\n",
       "4   2009   None  759139403\n",
       "5   2014   None  615792857\n",
       "6   2015   None  582695183\n",
       "7   2013   None  575391138\n",
       "8   2007   None  662430963\n",
       "9   2008   None  752001864\n",
       "10  2011   None  651936894\n",
       "11  2019   None  333397785\n",
       "12  2006   None  547972991\n",
       "13  2010   None  651457191\n",
       "14  2020   None  262362411\n",
       "15  2022   None  296642507\n",
       "16  2012   None  615799526\n",
       "17  2021   None  295469952"
      ]
     },
     "execution_count": 65,
     "metadata": {},
     "output_type": "execute_result"
    }
   ],
   "source": [
    "drgDf[drgDf['drg_cd'].isna()]"
   ]
  },
  {
   "cell_type": "markdown",
   "metadata": {},
   "source": [
    "Provider Type\n",
    "\n",
    "Creating a table to count different provider types. "
   ]
  },
  {
   "cell_type": "code",
   "execution_count": 67,
   "metadata": {},
   "outputs": [],
   "source": [
    "provQuery = '''\n",
    "    DROP TABLE IF EXISTS qa_reporting.dw_iqva_provider_type_counts;\n",
    "\n",
    "    SELECT \n",
    "        year, \n",
    "        provider_type, \n",
    "        COUNT(*) as type_count\n",
    "    INTO qa_reporting.dw_iqva_provider_type_counts\n",
    "    FROM dw_staging.iqva_claim_detail\n",
    "    GROUP BY 1,2;\n",
    "'''\n",
    "\n",
    "with connection.cursor() as cursor:\n",
    "    cursor.execute(provQuery)"
   ]
  },
  {
   "cell_type": "code",
   "execution_count": 68,
   "metadata": {},
   "outputs": [
    {
     "name": "stdout",
     "output_type": "stream",
     "text": [
      "    year provider_type  type_count\n",
      "0   2019          None   333397785\n",
      "1   2023          None   104947333\n",
      "2   2014          None   615792857\n",
      "3   2017          None   465448852\n",
      "4   2007          None   662430963\n",
      "5   2016          None   603322301\n",
      "6   2020          None   262362411\n",
      "7   2021          None   295469952\n",
      "8   2010          None   651457191\n",
      "9   2022          None   296642507\n",
      "10  2006          None   547972991\n",
      "11  2015          None   582695183\n",
      "12  2018          None   329711260\n",
      "13  2009          None   759139403\n",
      "14  2011          None   651936894\n",
      "15  2008          None   752001864\n",
      "16  2013          None   575391138\n",
      "17  2012          None   615799526\n"
     ]
    },
    {
     "name": "stderr",
     "output_type": "stream",
     "text": [
      "C:\\Users\\piacobelli\\AppData\\Local\\Temp\\6\\ipykernel_5068\\1650763272.py:1: UserWarning: pandas only supports SQLAlchemy connectable (engine/connection) or database string URI or sqlite3 DBAPI2 connection. Other DBAPI2 objects are not tested. Please consider using SQLAlchemy.\n",
      "  provDf = pd.read_sql('SELECT * FROM qa_reporting.dw_iqva_provider_type_counts;', con=connection)\n"
     ]
    }
   ],
   "source": [
    "provDf = pd.read_sql('SELECT * FROM qa_reporting.dw_iqva_provider_type_counts;', con=connection)\n",
    "print(provDf)"
   ]
  },
  {
   "cell_type": "code",
   "execution_count": 69,
   "metadata": {},
   "outputs": [
    {
     "name": "stderr",
     "output_type": "stream",
     "text": [
      "C:\\Users\\piacobelli\\AppData\\Local\\Temp\\6\\ipykernel_5068\\2573287245.py:8: UserWarning: pandas only supports SQLAlchemy connectable (engine/connection) or database string URI or sqlite3 DBAPI2 connection. Other DBAPI2 objects are not tested. Please consider using SQLAlchemy.\n",
      "  invalidProvDf = pd.read_sql(provAntiJoinQuery, con=connection)\n"
     ]
    },
    {
     "data": {
      "text/html": [
       "<div>\n",
       "<style scoped>\n",
       "    .dataframe tbody tr th:only-of-type {\n",
       "        vertical-align: middle;\n",
       "    }\n",
       "\n",
       "    .dataframe tbody tr th {\n",
       "        vertical-align: top;\n",
       "    }\n",
       "\n",
       "    .dataframe thead th {\n",
       "        text-align: right;\n",
       "    }\n",
       "</style>\n",
       "<table border=\"1\" class=\"dataframe\">\n",
       "  <thead>\n",
       "    <tr style=\"text-align: right;\">\n",
       "      <th></th>\n",
       "      <th>year</th>\n",
       "      <th>provider_type</th>\n",
       "      <th>type_count</th>\n",
       "    </tr>\n",
       "  </thead>\n",
       "  <tbody>\n",
       "    <tr>\n",
       "      <th>0</th>\n",
       "      <td>2019</td>\n",
       "      <td>None</td>\n",
       "      <td>333397785</td>\n",
       "    </tr>\n",
       "    <tr>\n",
       "      <th>1</th>\n",
       "      <td>2023</td>\n",
       "      <td>None</td>\n",
       "      <td>104947333</td>\n",
       "    </tr>\n",
       "    <tr>\n",
       "      <th>2</th>\n",
       "      <td>2014</td>\n",
       "      <td>None</td>\n",
       "      <td>615792857</td>\n",
       "    </tr>\n",
       "    <tr>\n",
       "      <th>3</th>\n",
       "      <td>2017</td>\n",
       "      <td>None</td>\n",
       "      <td>465448852</td>\n",
       "    </tr>\n",
       "    <tr>\n",
       "      <th>4</th>\n",
       "      <td>2007</td>\n",
       "      <td>None</td>\n",
       "      <td>662430963</td>\n",
       "    </tr>\n",
       "    <tr>\n",
       "      <th>5</th>\n",
       "      <td>2016</td>\n",
       "      <td>None</td>\n",
       "      <td>603322301</td>\n",
       "    </tr>\n",
       "    <tr>\n",
       "      <th>6</th>\n",
       "      <td>2020</td>\n",
       "      <td>None</td>\n",
       "      <td>262362411</td>\n",
       "    </tr>\n",
       "    <tr>\n",
       "      <th>7</th>\n",
       "      <td>2021</td>\n",
       "      <td>None</td>\n",
       "      <td>295469952</td>\n",
       "    </tr>\n",
       "    <tr>\n",
       "      <th>8</th>\n",
       "      <td>2010</td>\n",
       "      <td>None</td>\n",
       "      <td>651457191</td>\n",
       "    </tr>\n",
       "    <tr>\n",
       "      <th>9</th>\n",
       "      <td>2013</td>\n",
       "      <td>None</td>\n",
       "      <td>575391138</td>\n",
       "    </tr>\n",
       "    <tr>\n",
       "      <th>10</th>\n",
       "      <td>2012</td>\n",
       "      <td>None</td>\n",
       "      <td>615799526</td>\n",
       "    </tr>\n",
       "    <tr>\n",
       "      <th>11</th>\n",
       "      <td>2022</td>\n",
       "      <td>None</td>\n",
       "      <td>296642507</td>\n",
       "    </tr>\n",
       "    <tr>\n",
       "      <th>12</th>\n",
       "      <td>2011</td>\n",
       "      <td>None</td>\n",
       "      <td>651936894</td>\n",
       "    </tr>\n",
       "    <tr>\n",
       "      <th>13</th>\n",
       "      <td>2009</td>\n",
       "      <td>None</td>\n",
       "      <td>759139403</td>\n",
       "    </tr>\n",
       "    <tr>\n",
       "      <th>14</th>\n",
       "      <td>2018</td>\n",
       "      <td>None</td>\n",
       "      <td>329711260</td>\n",
       "    </tr>\n",
       "    <tr>\n",
       "      <th>15</th>\n",
       "      <td>2006</td>\n",
       "      <td>None</td>\n",
       "      <td>547972991</td>\n",
       "    </tr>\n",
       "    <tr>\n",
       "      <th>16</th>\n",
       "      <td>2015</td>\n",
       "      <td>None</td>\n",
       "      <td>582695183</td>\n",
       "    </tr>\n",
       "    <tr>\n",
       "      <th>17</th>\n",
       "      <td>2008</td>\n",
       "      <td>None</td>\n",
       "      <td>752001864</td>\n",
       "    </tr>\n",
       "  </tbody>\n",
       "</table>\n",
       "</div>"
      ],
      "text/plain": [
       "    year provider_type  type_count\n",
       "0   2019          None   333397785\n",
       "1   2023          None   104947333\n",
       "2   2014          None   615792857\n",
       "3   2017          None   465448852\n",
       "4   2007          None   662430963\n",
       "5   2016          None   603322301\n",
       "6   2020          None   262362411\n",
       "7   2021          None   295469952\n",
       "8   2010          None   651457191\n",
       "9   2013          None   575391138\n",
       "10  2012          None   615799526\n",
       "11  2022          None   296642507\n",
       "12  2011          None   651936894\n",
       "13  2009          None   759139403\n",
       "14  2018          None   329711260\n",
       "15  2006          None   547972991\n",
       "16  2015          None   582695183\n",
       "17  2008          None   752001864"
      ]
     },
     "execution_count": 69,
     "metadata": {},
     "output_type": "execute_result"
    }
   ],
   "source": [
    "provAntiJoinQuery = '''\n",
    "    SELECT a.*\n",
    "    FROM qa_reporting.dw_iqva_provider_type_counts a\n",
    "    LEFT JOIN reference_tables.ref_provider_specialty b ON a.provider_type = b.provider_specialty_cd\n",
    "    WHERE b.provider_specialty_cd IS NULL;\n",
    "'''\n",
    "\n",
    "invalidProvDf = pd.read_sql(provAntiJoinQuery, con=connection)\n",
    "invalidProvDf"
   ]
  }
 ],
 "metadata": {
  "interpreter": {
   "hash": "81b39941f5f86bd55ce23e61d999abbcfed2b28ac180a9206c4bd76831164376"
  },
  "kernelspec": {
   "display_name": "Python 3.8.13 ('piacobelliEnv')",
   "language": "python",
   "name": "python3"
  },
  "language_info": {
   "codemirror_mode": {
    "name": "ipython",
    "version": 3
   },
   "file_extension": ".py",
   "mimetype": "text/x-python",
   "name": "python",
   "nbconvert_exporter": "python",
   "pygments_lexer": "ipython3",
   "version": "3.8.13"
  },
  "orig_nbformat": 4
 },
 "nbformat": 4,
 "nbformat_minor": 2
}
