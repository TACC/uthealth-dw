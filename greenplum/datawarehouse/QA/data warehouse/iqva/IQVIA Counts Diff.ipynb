{
 "cells": [
  {
   "cell_type": "code",
   "execution_count": 1,
   "metadata": {},
   "outputs": [
    {
     "name": "stderr",
     "output_type": "stream",
     "text": [
      "C:\\Users\\piacobelli\\.conda\\envs\\piacobelliEnv\\lib\\site-packages\\numpy\\_distributor_init.py:30: UserWarning: loaded more than 1 DLL from .libs:\n",
      "C:\\Users\\piacobelli\\.conda\\envs\\piacobelliEnv\\lib\\site-packages\\numpy\\.libs\\libopenblas.EL2C6PLE4ZYW3ECEVIV3OXXGRN2NRFM2.gfortran-win_amd64.dll\n",
      "C:\\Users\\piacobelli\\.conda\\envs\\piacobelliEnv\\lib\\site-packages\\numpy\\.libs\\libopenblas64__v0.3.21-gcc_10_3_0.dll\n",
      "  warnings.warn(\"loaded more than 1 DLL from .libs:\"\n"
     ]
    }
   ],
   "source": [
    "from telnetlib import STATUS\n",
    "import psycopg2\n",
    "import pandas as pd\n",
    "\n",
    "username = 'piacobelli'\n",
    "password = 'PAiac14-'\n",
    "host = 'greenplum01.corral.tacc.utexas.edu'\n",
    "port = 5432\n",
    "database = 'uthealth'\n",
    "\n",
    "connection = psycopg2.connect(\n",
    "    host = host, \n",
    "    database = database, \n",
    "    user = username, \n",
    "    port = port, \n",
    "    password = password, \n",
    "    keepalives = 1, keepalives_idle = 100\n",
    ")\n",
    "connection.autocommit = True"
   ]
  },
  {
   "cell_type": "code",
   "execution_count": 12,
   "metadata": {},
   "outputs": [],
   "source": [
    "\n",
    "countDiffQuery = f'''\n",
    "    \n",
    "    UPDATE qa_reporting.iqvia_counts \n",
    "    SET row_count_diff = spc_row_count - row_count, row_count_diff_percentage = 100. * abs(spc_row_count - row_count) / row_count, last_updated=CURRENT_DATE; \n",
    "'''\n",
    "\n",
    "with connection.cursor() as cursor: \n",
    "    cursor.execute(countDiffQuery)\n",
    "\n",
    "\n"
   ]
  },
  {
   "cell_type": "code",
   "execution_count": 13,
   "metadata": {},
   "outputs": [],
   "source": [
    "enrollSynthAggQuery = f'''\n",
    "    DELETE FROM qa_reporting.iqvia_counts WHERE table_name = 'enroll_synth' AND year IS NULL; \n",
    "\n",
    "    INSERT INTO qa_reporting.iqvia_counts\n",
    "    (table_name, row_count, pat_count, spc_row_count)\n",
    "    SELECT * FROM (\n",
    "        SELECT \n",
    "            'enroll_synth' AS table_name,\n",
    "            COUNT(*) AS row_count, \n",
    "            COUNT(DISTINCT pat_id) AS pat_count, \n",
    "            19147789 AS spc_row_count\n",
    "        FROM iqvia.enroll_synth\n",
    "    ) as insert_result; \n",
    "'''\n",
    "\n",
    "enrollSynthDiffQuery = f'''\n",
    "    UPDATE qa_reporting.iqvia_counts\n",
    "    SET row_count_diff = spc_row_count - row_count, row_count_diff_percentage = 100. * abs(spc_row_count - row_count) / row_count, last_updated=CURRENT_DATE\n",
    "    WHERE year IS NULL; \n",
    "'''\n",
    "\n",
    "with connection.cursor() as cursor: \n",
    "    cursor.execute(enrollSynthAggQuery)\n",
    "    cursor.execute(enrollSynthDiffQuery)"
   ]
  },
  {
   "cell_type": "code",
   "execution_count": 6,
   "metadata": {},
   "outputs": [],
   "source": [
    "dervClaimNoUpdateQuery = f'''\n",
    "    WITH derv_claimno_counts AS (\n",
    "        SELECT \n",
    "            year, \n",
    "            COUNT(DISTINCT derv_claimno) AS derv_clms\n",
    "        FROM dev.pi_iqvia_derv_claimno_new_all_yr\n",
    "        GROUP BY year\n",
    "    ) \n",
    "    UPDATE qa_reporting.iqvia_counts a\n",
    "    SET derv_claimno_count = b.derv_clms \n",
    "    FROM derv_claimno_counts b\n",
    "    WHERE a.year = b.year AND a.table_name = 'claims' ; \n",
    "'''\n",
    "\n",
    "with connection.cursor() as cursor: \n",
    "    cursor.execute(dervClaimNoUpdateQuery)"
   ]
  },
  {
   "cell_type": "code",
   "execution_count": null,
   "metadata": {},
   "outputs": [],
   "source": []
  }
 ],
 "metadata": {
  "interpreter": {
   "hash": "81b39941f5f86bd55ce23e61d999abbcfed2b28ac180a9206c4bd76831164376"
  },
  "kernelspec": {
   "display_name": "Python 3.8.13 ('piacobelliEnv')",
   "language": "python",
   "name": "python3"
  },
  "language_info": {
   "codemirror_mode": {
    "name": "ipython",
    "version": 3
   },
   "file_extension": ".py",
   "mimetype": "text/x-python",
   "name": "python",
   "nbconvert_exporter": "python",
   "pygments_lexer": "ipython3",
   "version": "3.8.13"
  },
  "orig_nbformat": 4
 },
 "nbformat": 4,
 "nbformat_minor": 2
}
